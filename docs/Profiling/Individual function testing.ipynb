{
 "cells": [
  {
   "cell_type": "code",
   "execution_count": 1,
   "id": "4b457683",
   "metadata": {
    "scrolled": false
   },
   "outputs": [
    {
     "name": "stdout",
     "output_type": "stream",
     "text": [
      "[\u001b[1mtardis.io.atom_data.atom_web_download\u001b[0m][\u001b[1;37mINFO\u001b[0m   ]  Downloading atomic data from https://media.githubusercontent.com/media/tardis-sn/tardis-refdata/master/atom_data/kurucz_cd23_chianti_H_He.h5 to /home/kevin/Downloads/tardis-data/kurucz_cd23_chianti_H_He.h5 (\u001b[1matom_web_download.py\u001b[0m:46)\n"
     ]
    }
   ],
   "source": [
    "from tardis.montecarlo.montecarlo_numba.opacities import *\n",
    "from tardis.io.atom_data.util import download_atom_data\n",
    "download_atom_data('kurucz_cd23_chianti_H_He')\n",
    "from tardis import run_tardis\n",
    "from astropy import units as u\n",
    "timing_dict = {}"
   ]
  },
  {
   "cell_type": "code",
   "execution_count": 2,
   "id": "4b50a7f1",
   "metadata": {
    "scrolled": false
   },
   "outputs": [
    {
     "name": "stdout",
     "output_type": "stream",
     "text": [
      "[\u001b[1mtardis.plasma.standard_plasmas\u001b[0m][\u001b[1;37mINFO\u001b[0m   ]  Reading Atomic Data from kurucz_cd23_chianti_H_He.h5 (\u001b[1mstandard_plasmas.py\u001b[0m:91)\n",
      "[\u001b[1mtardis.io.atom_data.util\u001b[0m][\u001b[1;37mINFO\u001b[0m   ]  Atom Data kurucz_cd23_chianti_H_He.h5 not found in local path. Exists in TARDIS Data repo /home/kevin/Downloads/tardis-data/kurucz_cd23_chianti_H_He.h5 (\u001b[1mutil.py\u001b[0m:34)\n",
      "[\u001b[1mtardis.io.atom_data.base\u001b[0m][\u001b[1;37mINFO\u001b[0m   ]  Read Atom Data with UUID=6f7b09e887a311e7a06b246e96350010 and MD5=864f1753714343c41f99cb065710cace. (\u001b[1mbase.py\u001b[0m:179)\n",
      "[\u001b[1mtardis.io.atom_data.base\u001b[0m][\u001b[1;37mINFO\u001b[0m   ]  Non provided atomic data: synpp_refs, photoionization_data, yg_data, two_photon_data (\u001b[1mbase.py\u001b[0m:183)\n"
     ]
    }
   ],
   "source": [
    "from tardis.io.config_reader import Configuration\n",
    "from tardis.simulation import Simulation\n",
    "tardis_config = Configuration.from_yaml('tardis_example.yml')\n",
    "tardis_config['montecarlo']['iterations'] = 1\n",
    "sim = Simulation.from_config(tardis_config)"
   ]
  },
  {
   "cell_type": "code",
   "execution_count": 3,
   "id": "90468497",
   "metadata": {},
   "outputs": [],
   "source": [
    "electron_density = sim.plasma.electron_densities[0]"
   ]
  },
  {
   "cell_type": "code",
   "execution_count": 4,
   "id": "9a4e0a9c",
   "metadata": {},
   "outputs": [
    {
     "name": "stdout",
     "output_type": "stream",
     "text": [
      "260 ns ± 6 ns per loop (mean ± std. dev. of 7 runs, 1000000 loops each)\n"
     ]
    }
   ],
   "source": [
    "%%timeit\n",
    "\n",
    "calculate_tau_electron(electron_density, 5.0)"
   ]
  },
  {
   "cell_type": "code",
   "execution_count": 5,
   "id": "19f81b1e",
   "metadata": {
    "scrolled": true
   },
   "outputs": [
    {
     "data": {
      "text/latex": [
       "$4951.7026 \\; \\mathrm{ms}$"
      ],
      "text/plain": [
       "<Quantity 4951.702644 ms>"
      ]
     },
     "execution_count": 5,
     "metadata": {},
     "output_type": "execute_result"
    }
   ],
   "source": [
    "timing_dict[\"calculate_tau_electron\"]= (196*u.ns*25263789).to(u.ms)\n",
    "(196*u.ns*25263789).to(u.ms)"
   ]
  },
  {
   "cell_type": "code",
   "execution_count": 6,
   "id": "e0ffaf2d",
   "metadata": {},
   "outputs": [],
   "source": [
    "from tardis.montecarlo.montecarlo_numba.r_packet import RPacket\n",
    "from tardis.montecarlo.montecarlo_numba.calculate_distances import calculate_distance_line\n",
    "base_rpacket = RPacket(1235520000000000.0, 0.9179315093742044, 791508754762811.8, 2.5871368097044846e-05, 2850180890, 0, False)\n",
    "rpacket1 = base_rpacket"
   ]
  },
  {
   "cell_type": "code",
   "execution_count": 7,
   "id": "cf876123",
   "metadata": {},
   "outputs": [
    {
     "name": "stdout",
     "output_type": "stream",
     "text": [
      "490 ns ± 11 ns per loop (mean ± std. dev. of 7 runs, 1000000 loops each)\n"
     ]
    }
   ],
   "source": [
    "%%timeit\n",
    "\n",
    "calculate_distance_line(rpacket1, 912784333619689.2, False, 912500130829976.2, 1123200.0)"
   ]
  },
  {
   "cell_type": "code",
   "execution_count": 8,
   "id": "59df93a9",
   "metadata": {},
   "outputs": [
    {
     "data": {
      "text/latex": [
       "$14071.93 \\; \\mathrm{ms}$"
      ],
      "text/plain": [
       "<Quantity 14071.930473 ms>"
      ]
     },
     "execution_count": 8,
     "metadata": {},
     "output_type": "execute_result"
    }
   ],
   "source": [
    "timing_dict[\"calculate_distance_line\"] = (557*u.ns*25263789).to(u.ms)\n",
    "(557*u.ns*25263789).to(u.ms)"
   ]
  },
  {
   "cell_type": "code",
   "execution_count": 9,
   "id": "ad90002b",
   "metadata": {},
   "outputs": [],
   "source": [
    "from tardis.montecarlo.montecarlo_numba.calculate_distances import calculate_distance_electron\n",
    "electron_density = sim.plasma.electron_densities[0]\n",
    "import numpy as np\n",
    "tau_event = -np.log(np.random.random())"
   ]
  },
  {
   "cell_type": "code",
   "execution_count": 10,
   "id": "32fc27ee",
   "metadata": {},
   "outputs": [
    {
     "name": "stdout",
     "output_type": "stream",
     "text": [
      "288 ns ± 10.2 ns per loop (mean ± std. dev. of 7 runs, 1000000 loops each)\n"
     ]
    }
   ],
   "source": [
    "%%timeit\n",
    "\n",
    "calculate_distance_electron(electron_density, tau_event)"
   ]
  },
  {
   "cell_type": "code",
   "execution_count": 11,
   "id": "c2d8ddd5",
   "metadata": {},
   "outputs": [
    {
     "data": {
      "text/latex": [
       "$5835.9353 \\; \\mathrm{ms}$"
      ],
      "text/plain": [
       "<Quantity 5835.935259 ms>"
      ]
     },
     "execution_count": 11,
     "metadata": {},
     "output_type": "execute_result"
    }
   ],
   "source": [
    "timing_dict[\"calculate_distance_electron\"] = (231*u.ns*25263789).to(u.ms)\n",
    "(231*u.ns*25263789).to(u.ms)"
   ]
  },
  {
   "cell_type": "code",
   "execution_count": 12,
   "id": "2bbf834b",
   "metadata": {},
   "outputs": [],
   "source": [
    "from tardis.montecarlo.montecarlo_numba.r_packet import test_for_close_line\n",
    "from tardis.montecarlo.montecarlo_numba.numba_interface import numba_plasma_initialize\n",
    "rpacket2 = base_rpacket\n",
    "base_numba_plasma = numba_plasma_initialize(sim.plasma, \"macroatom\")\n",
    "plasma1 = base_numba_plasma"
   ]
  },
  {
   "cell_type": "code",
   "execution_count": 13,
   "id": "481eb2ba",
   "metadata": {},
   "outputs": [
    {
     "name": "stdout",
     "output_type": "stream",
     "text": [
      "720 ns ± 14.4 ns per loop (mean ± std. dev. of 7 runs, 1000000 loops each)\n"
     ]
    }
   ],
   "source": [
    "%%timeit\n",
    "\n",
    "test_for_close_line(rpacket2, 1, .1, plasma1)"
   ]
  },
  {
   "cell_type": "code",
   "execution_count": 14,
   "id": "aa69034c",
   "metadata": {},
   "outputs": [
    {
     "data": {
      "text/latex": [
       "$17410.663 \\; \\mathrm{ms}$"
      ],
      "text/plain": [
       "<Quantity 17410.663275 ms>"
      ]
     },
     "execution_count": 14,
     "metadata": {},
     "output_type": "execute_result"
    }
   ],
   "source": [
    "timing_dict[\"test_for_close_line\"] = (743*u.ns*23432925).to(u.ms)\n",
    "(743*u.ns*23432925).to(u.ms)"
   ]
  },
  {
   "cell_type": "code",
   "execution_count": 15,
   "id": "13e39b50",
   "metadata": {},
   "outputs": [],
   "source": [
    "from tardis.montecarlo.montecarlo_numba.estimators import update_line_estimators\n",
    "from tardis.montecarlo.montecarlo_numba.numba_interface import Estimators\n",
    "base_j_estimator = np.array([0., 0., 0., 0., 0., 0., 0., 0., 0., 0., 0., 0., 0., 0., 0., 0., 0., 0., 0., 0.])\n",
    "base_nu_bar_estimator = np.array([0., 0., 0., 0., 0., 0., 0., 0., 0., 0., 0., 0., 0., 0., 0., 0., 0., 0., 0., 0.])\n",
    "base_j_blue_estimator = np.zeros([29224, 20])\n",
    "base_Edotlu_estimator = np.zeros([29224, 20])\n",
    "base_estimators = Estimators(base_j_estimator, base_nu_bar_estimator, base_j_blue_estimator, base_Edotlu_estimator)\n",
    "estimators1 = base_estimators\n",
    "rpacket3 = base_rpacket\n",
    "cur_line_id = 1\n",
    "base_distance_trace = calculate_distance_line(rpacket1, 5.9, False, .1, 10)\n",
    "distance_trace1 = base_distance_trace\n",
    "time_explosion = 10"
   ]
  },
  {
   "cell_type": "code",
   "execution_count": 16,
   "id": "45093b74",
   "metadata": {},
   "outputs": [
    {
     "name": "stdout",
     "output_type": "stream",
     "text": [
      "833 ns ± 191 ns per loop (mean ± std. dev. of 7 runs, 1000000 loops each)\n"
     ]
    }
   ],
   "source": [
    "%%timeit\n",
    "\n",
    "update_line_estimators(estimators1, rpacket3, cur_line_id, distance_trace1, time_explosion)"
   ]
  },
  {
   "cell_type": "code",
   "execution_count": 17,
   "id": "85b654b2",
   "metadata": {},
   "outputs": [
    {
     "data": {
      "text/latex": [
       "$21277.096 \\; \\mathrm{ms}$"
      ],
      "text/plain": [
       "<Quantity 21277.0959 ms>"
      ]
     },
     "execution_count": 17,
     "metadata": {},
     "output_type": "execute_result"
    }
   ],
   "source": [
    "timing_dict[\"update_line_estimators\"] = (908*u.ns*23432925).to(u.ms)\n",
    "(908*u.ns*23432925).to(u.ms)"
   ]
  },
  {
   "cell_type": "code",
   "execution_count": 18,
   "id": "a8de9eba",
   "metadata": {},
   "outputs": [],
   "source": [
    "from tardis.montecarlo.montecarlo_numba.frame_transformations import calc_packet_energy\n",
    "rpacket4 = base_rpacket\n",
    "distance_trace2 = base_distance_trace"
   ]
  },
  {
   "cell_type": "code",
   "execution_count": 19,
   "id": "60972de3",
   "metadata": {},
   "outputs": [
    {
     "name": "stdout",
     "output_type": "stream",
     "text": [
      "441 ns ± 9.86 ns per loop (mean ± std. dev. of 7 runs, 1000000 loops each)\n"
     ]
    }
   ],
   "source": [
    "%%timeit\n",
    "\n",
    "calc_packet_energy(rpacket4, distance_trace2, 10)"
   ]
  },
  {
   "cell_type": "code",
   "execution_count": 20,
   "id": "6a62f818",
   "metadata": {},
   "outputs": [
    {
     "data": {
      "text/latex": [
       "$10779.145 \\; \\mathrm{ms}$"
      ],
      "text/plain": [
       "<Quantity 10779.1455 ms>"
      ]
     },
     "execution_count": 20,
     "metadata": {},
     "output_type": "execute_result"
    }
   ],
   "source": [
    "timing_dict[\"calc_packet_energy\"] = (460*u.ns*23432925).to(u.ms)\n",
    "(460*u.ns*23432925).to(u.ms)"
   ]
  },
  {
   "cell_type": "code",
   "execution_count": 21,
   "id": "4d919fbe",
   "metadata": {},
   "outputs": [],
   "source": [
    "from tardis.montecarlo.montecarlo_numba.frame_transformations import get_doppler_factor\n",
    "r1 = base_rpacket.r\n",
    "mu1 = base_rpacket.mu"
   ]
  },
  {
   "cell_type": "code",
   "execution_count": 22,
   "id": "e77225dc",
   "metadata": {},
   "outputs": [
    {
     "name": "stdout",
     "output_type": "stream",
     "text": [
      "196 ns ± 20.3 ns per loop (mean ± std. dev. of 7 runs, 10000000 loops each)\n"
     ]
    }
   ],
   "source": [
    "%%timeit\n",
    "\n",
    "get_doppler_factor(r1, mu1, 10)"
   ]
  },
  {
   "cell_type": "code",
   "execution_count": 23,
   "id": "96cf337f",
   "metadata": {},
   "outputs": [
    {
     "data": {
      "text/latex": [
       "$772.4553 \\; \\mathrm{ms}$"
      ],
      "text/plain": [
       "<Quantity 772.455299 ms>"
      ]
     },
     "execution_count": 23,
     "metadata": {},
     "output_type": "execute_result"
    }
   ],
   "source": [
    "timing_dict[\"get_doppler_factor\"] = (187*u.ns* 4130777).to(u.ms)\n",
    "(187*u.ns* 4130777).to(u.ms)"
   ]
  },
  {
   "cell_type": "code",
   "execution_count": 24,
   "id": "8c19cf9d",
   "metadata": {},
   "outputs": [],
   "source": [
    "from tardis.montecarlo.montecarlo_numba.frame_transformations import get_doppler_factor_partial_relativity\n",
    "from tardis.montecarlo.montecarlo_numba.numba_config import C_SPEED_OF_LIGHT\n",
    "inv_c = 1 / C_SPEED_OF_LIGHT\n",
    "inv_t = 1 / 10\n",
    "beta = base_rpacket.r * inv_t * inv_c\n",
    "mu2 = base_rpacket.mu"
   ]
  },
  {
   "cell_type": "code",
   "execution_count": 25,
   "id": "c7f935ae",
   "metadata": {},
   "outputs": [
    {
     "name": "stdout",
     "output_type": "stream",
     "text": [
      "240 ns ± 48.5 ns per loop (mean ± std. dev. of 7 runs, 1000000 loops each)\n"
     ]
    }
   ],
   "source": [
    "%%timeit\n",
    "\n",
    "get_doppler_factor_partial_relativity(mu2, beta)"
   ]
  },
  {
   "cell_type": "code",
   "execution_count": 26,
   "id": "04561d63",
   "metadata": {},
   "outputs": [
    {
     "data": {
      "text/latex": [
       "$677.44743 \\; \\mathrm{ms}$"
      ],
      "text/plain": [
       "<Quantity 677.447428 ms>"
      ]
     },
     "execution_count": 26,
     "metadata": {},
     "output_type": "execute_result"
    }
   ],
   "source": [
    "timing_dict[\"get_doppler_factor_partial_relativity\"] = (164*u.ns* 4130777).to(u.ms)\n",
    "(164*u.ns* 4130777).to(u.ms)"
   ]
  },
  {
   "cell_type": "code",
   "execution_count": 28,
   "id": "1f2654db",
   "metadata": {},
   "outputs": [
    {
     "name": "stdout",
     "output_type": "stream",
     "text": [
      "9427\n"
     ]
    }
   ],
   "source": [
    "from tardis.montecarlo.montecarlo_numba.r_packet import trace_packet\n",
    "from tardis.montecarlo.montecarlo_numba.numba_interface import NumbaModel\n",
    "rpacket0 = RPacket(1235520000000000.0, 0.9179315093742044, 791508754762811.8, 2.5871368097044846e-05, 2850180890)\n",
    "numba_model0 = NumbaModel(np.array([1.235520e+15, 1.286064e+15, 1.336608e+15, 1.387152e+15, 1.437696e+15, 1.488240e+15, 1.538784e+15, 1.589328e+15, 1.639872e+15, 1.690416e+15, 1.740960e+15, 1.791504e+15, 1.842048e+15, 1.892592e+15, 1.943136e+15, 1.993680e+15, 2.044224e+15, 2.094768e+15, 2.145312e+15, 2.195856e+15]), np.array([1.286064e+15, 1.336608e+15, 1.387152e+15, 1.437696e+15, 1.488240e+15, 1.538784e+15, 1.589328e+15, 1.639872e+15, 1.690416e+15, 1.740960e+15, 1.791504e+15, 1.842048e+15, 1.892592e+15, 1.943136e+15, 1.993680e+15, 2.044224e+15, 2.094768e+15, 2.145312e+15, 2.195856e+15, 2.246400e+15]), 1123200.0)\n",
    "numba_plasma0 = numba_plasma_initialize(sim.plasma, sim.runner.line_interaction_type)\n",
    "j_estimator = np.array([0., 0., 0., 0., 0., 0., 0., 0., 0., 0., 0., 0., 0., 0., 0., 0., 0., 0., 0., 0.])\n",
    "nu_bar_estimator = np.array([0., 0., 0., 0., 0., 0., 0., 0., 0., 0., 0., 0., 0., 0., 0., 0., 0., 0., 0., 0.])\n",
    "j_blue_estimator = np.zeros([29224, 20])\n",
    "Edotlu_es0timator = np.zeros([29224, 20])\n",
    "estimator0 = Estimators(j_estimator, nu_bar_estimator, j_blue_estimator, Edotlu_estimator)\n",
    "rpacket0.initialize_line_id(numba_plasma0, numba_model0)\n",
    "print(rpacket0.next_line_id)"
   ]
  },
  {
   "cell_type": "code",
   "execution_count": 30,
   "id": "a79d3c8e",
   "metadata": {},
   "outputs": [
    {
     "name": "stdout",
     "output_type": "stream",
     "text": [
      "The slowest run took 9.11 times longer than the fastest. This could mean that an intermediate result is being cached.\n",
      "5.16 µs ± 5.96 µs per loop (mean ± std. dev. of 7 runs, 1 loop each)\n"
     ]
    }
   ],
   "source": [
    "%%timeit\n",
    "\n",
    "trace_packet(rpacket0, numba_model0, numba_plasma0, estimator0)"
   ]
  },
  {
   "cell_type": "code",
   "execution_count": 31,
   "id": "a561e185",
   "metadata": {},
   "outputs": [
    {
     "name": "stdout",
     "output_type": "stream",
     "text": [
      "8592.01616 ms\n"
     ]
    }
   ],
   "source": [
    "timing_dict[\"trace_packet\"] = (2080*u.ns* 4130777).to(u.ms)\n",
    "print((2080*u.ns* 4130777).to(u.ms))"
   ]
  },
  {
   "cell_type": "code",
   "execution_count": null,
   "id": "756f809a",
   "metadata": {},
   "outputs": [],
   "source": [
    "\"\"\"\n",
    "    print(\"RPacket:\")\n",
    "    print(r_packet.r, r_packet.mu, r_packet.nu, r_packet.energy, r_packet.seed)\n",
    "    print(\"NumbaModel\")\n",
    "    print(numba_model.r_inner, numba_model.r_outer, numba_model.time_explosion)\n",
    "    print(\"ESTIMATORS\")\n",
    "    print(estimators.j_estimator)\n",
    "    print(estimators.nu_bar_estimator)\n",
    "    print(estimators.j_blue_estimator)\n",
    "    print(estimators.j_blue_estimator.size)\n",
    "    print(estimators.j_blue_estimator.shape)\n",
    "    print(estimators.Edotlu_estimator)\n",
    "    print(estimators.Edotlu_estimator.size)\n",
    "    print(estimators.Edotlu_estimator.shape)\"\"\""
   ]
  },
  {
   "cell_type": "code",
   "execution_count": 32,
   "id": "1bcc96c0",
   "metadata": {
    "scrolled": true
   },
   "outputs": [
    {
     "data": {
      "text/html": [
       "<div>\n",
       "<style scoped>\n",
       "    .dataframe tbody tr th:only-of-type {\n",
       "        vertical-align: middle;\n",
       "    }\n",
       "\n",
       "    .dataframe tbody tr th {\n",
       "        vertical-align: top;\n",
       "    }\n",
       "\n",
       "    .dataframe thead th {\n",
       "        text-align: right;\n",
       "    }\n",
       "</style>\n",
       "<table border=\"1\" class=\"dataframe\">\n",
       "  <thead>\n",
       "    <tr style=\"text-align: right;\">\n",
       "      <th></th>\n",
       "      <th></th>\n",
       "      <th></th>\n",
       "      <th></th>\n",
       "      <th>line_id</th>\n",
       "      <th>wavelength</th>\n",
       "      <th>f_ul</th>\n",
       "      <th>f_lu</th>\n",
       "      <th>nu</th>\n",
       "      <th>B_lu</th>\n",
       "      <th>B_ul</th>\n",
       "      <th>A_ul</th>\n",
       "      <th>wavelength_cm</th>\n",
       "    </tr>\n",
       "    <tr>\n",
       "      <th>atomic_number</th>\n",
       "      <th>ion_number</th>\n",
       "      <th>level_number_lower</th>\n",
       "      <th>level_number_upper</th>\n",
       "      <th></th>\n",
       "      <th></th>\n",
       "      <th></th>\n",
       "      <th></th>\n",
       "      <th></th>\n",
       "      <th></th>\n",
       "      <th></th>\n",
       "      <th></th>\n",
       "      <th></th>\n",
       "    </tr>\n",
       "  </thead>\n",
       "  <tbody>\n",
       "    <tr>\n",
       "      <th rowspan=\"5\" valign=\"top\">14</th>\n",
       "      <th rowspan=\"5\" valign=\"top\">5</th>\n",
       "      <th rowspan=\"3\" valign=\"top\">0</th>\n",
       "      <th>36</th>\n",
       "      <td>67813</td>\n",
       "      <td>66.772000</td>\n",
       "      <td>0.027030</td>\n",
       "      <td>0.040545</td>\n",
       "      <td>4.489793e+16</td>\n",
       "      <td>4.545377e+07</td>\n",
       "      <td>3.030251e+07</td>\n",
       "      <td>4.043917e+10</td>\n",
       "      <td>6.677200e-07</td>\n",
       "    </tr>\n",
       "    <tr>\n",
       "      <th>35</th>\n",
       "      <td>67814</td>\n",
       "      <td>69.204000</td>\n",
       "      <td>0.086684</td>\n",
       "      <td>0.086684</td>\n",
       "      <td>4.332011e+16</td>\n",
       "      <td>1.007179e+08</td>\n",
       "      <td>1.007179e+08</td>\n",
       "      <td>1.207313e+11</td>\n",
       "      <td>6.920400e-07</td>\n",
       "    </tr>\n",
       "    <tr>\n",
       "      <th>34</th>\n",
       "      <td>67815</td>\n",
       "      <td>69.236000</td>\n",
       "      <td>0.061923</td>\n",
       "      <td>0.092884</td>\n",
       "      <td>4.330008e+16</td>\n",
       "      <td>1.079711e+08</td>\n",
       "      <td>7.198073e+07</td>\n",
       "      <td>8.616424e+10</td>\n",
       "      <td>6.923600e-07</td>\n",
       "    </tr>\n",
       "    <tr>\n",
       "      <th>1</th>\n",
       "      <th>35</th>\n",
       "      <td>67816</td>\n",
       "      <td>69.448000</td>\n",
       "      <td>0.017699</td>\n",
       "      <td>0.035397</td>\n",
       "      <td>4.316790e+16</td>\n",
       "      <td>4.127293e+07</td>\n",
       "      <td>2.063646e+07</td>\n",
       "      <td>2.447726e+10</td>\n",
       "      <td>6.944800e-07</td>\n",
       "    </tr>\n",
       "    <tr>\n",
       "      <th>0</th>\n",
       "      <th>33</th>\n",
       "      <td>67817</td>\n",
       "      <td>71.181000</td>\n",
       "      <td>0.091590</td>\n",
       "      <td>0.137385</td>\n",
       "      <td>4.211692e+16</td>\n",
       "      <td>1.641873e+08</td>\n",
       "      <td>1.094582e+08</td>\n",
       "      <td>1.205765e+11</td>\n",
       "      <td>7.118100e-07</td>\n",
       "    </tr>\n",
       "    <tr>\n",
       "      <th>...</th>\n",
       "      <th>...</th>\n",
       "      <th>...</th>\n",
       "      <th>...</th>\n",
       "      <td>...</td>\n",
       "      <td>...</td>\n",
       "      <td>...</td>\n",
       "      <td>...</td>\n",
       "      <td>...</td>\n",
       "      <td>...</td>\n",
       "      <td>...</td>\n",
       "      <td>...</td>\n",
       "      <td>...</td>\n",
       "    </tr>\n",
       "    <tr>\n",
       "      <th rowspan=\"5\" valign=\"top\">20</th>\n",
       "      <th rowspan=\"5\" valign=\"top\">0</th>\n",
       "      <th>176</th>\n",
       "      <th>191</th>\n",
       "      <td>104458</td>\n",
       "      <td>992063.502847</td>\n",
       "      <td>0.033180</td>\n",
       "      <td>0.099541</td>\n",
       "      <td>3.021908e+12</td>\n",
       "      <td>1.657964e+12</td>\n",
       "      <td>5.526546e+11</td>\n",
       "      <td>2.248754e+02</td>\n",
       "      <td>9.920635e-03</td>\n",
       "    </tr>\n",
       "    <tr>\n",
       "      <th>177</th>\n",
       "      <th>191</th>\n",
       "      <td>104459</td>\n",
       "      <td>992555.837031</td>\n",
       "      <td>0.024882</td>\n",
       "      <td>0.024882</td>\n",
       "      <td>3.020409e+12</td>\n",
       "      <td>4.146381e+11</td>\n",
       "      <td>4.146381e+11</td>\n",
       "      <td>1.684655e+02</td>\n",
       "      <td>9.925558e-03</td>\n",
       "    </tr>\n",
       "    <tr>\n",
       "      <th>178</th>\n",
       "      <th>191</th>\n",
       "      <td>104460</td>\n",
       "      <td>993541.985801</td>\n",
       "      <td>0.001655</td>\n",
       "      <td>0.000993</td>\n",
       "      <td>3.017411e+12</td>\n",
       "      <td>1.656730e+10</td>\n",
       "      <td>2.761217e+10</td>\n",
       "      <td>1.118532e+01</td>\n",
       "      <td>9.935420e-03</td>\n",
       "    </tr>\n",
       "    <tr>\n",
       "      <th>138</th>\n",
       "      <th>144</th>\n",
       "      <td>104461</td>\n",
       "      <td>997804.837623</td>\n",
       "      <td>3.380648</td>\n",
       "      <td>1.126883</td>\n",
       "      <td>3.004520e+12</td>\n",
       "      <td>1.887817e+13</td>\n",
       "      <td>5.663451e+13</td>\n",
       "      <td>2.264910e+04</td>\n",
       "      <td>9.978048e-03</td>\n",
       "    </tr>\n",
       "    <tr>\n",
       "      <th>177</th>\n",
       "      <th>190</th>\n",
       "      <td>104462</td>\n",
       "      <td>999900.018655</td>\n",
       "      <td>0.000265</td>\n",
       "      <td>0.000441</td>\n",
       "      <td>2.998224e+12</td>\n",
       "      <td>7.410898e+09</td>\n",
       "      <td>4.446539e+09</td>\n",
       "      <td>1.767092e+00</td>\n",
       "      <td>9.999000e-03</td>\n",
       "    </tr>\n",
       "  </tbody>\n",
       "</table>\n",
       "<p>29224 rows × 9 columns</p>\n",
       "</div>"
      ],
      "text/plain": [
       "                                                                line_id  \\\n",
       "atomic_number ion_number level_number_lower level_number_upper            \n",
       "14            5          0                  36                    67813   \n",
       "                                            35                    67814   \n",
       "                                            34                    67815   \n",
       "                         1                  35                    67816   \n",
       "                         0                  33                    67817   \n",
       "...                                                                 ...   \n",
       "20            0          176                191                  104458   \n",
       "                         177                191                  104459   \n",
       "                         178                191                  104460   \n",
       "                         138                144                  104461   \n",
       "                         177                190                  104462   \n",
       "\n",
       "                                                                   wavelength  \\\n",
       "atomic_number ion_number level_number_lower level_number_upper                  \n",
       "14            5          0                  36                      66.772000   \n",
       "                                            35                      69.204000   \n",
       "                                            34                      69.236000   \n",
       "                         1                  35                      69.448000   \n",
       "                         0                  33                      71.181000   \n",
       "...                                                                       ...   \n",
       "20            0          176                191                 992063.502847   \n",
       "                         177                191                 992555.837031   \n",
       "                         178                191                 993541.985801   \n",
       "                         138                144                 997804.837623   \n",
       "                         177                190                 999900.018655   \n",
       "\n",
       "                                                                    f_ul  \\\n",
       "atomic_number ion_number level_number_lower level_number_upper             \n",
       "14            5          0                  36                  0.027030   \n",
       "                                            35                  0.086684   \n",
       "                                            34                  0.061923   \n",
       "                         1                  35                  0.017699   \n",
       "                         0                  33                  0.091590   \n",
       "...                                                                  ...   \n",
       "20            0          176                191                 0.033180   \n",
       "                         177                191                 0.024882   \n",
       "                         178                191                 0.001655   \n",
       "                         138                144                 3.380648   \n",
       "                         177                190                 0.000265   \n",
       "\n",
       "                                                                    f_lu  \\\n",
       "atomic_number ion_number level_number_lower level_number_upper             \n",
       "14            5          0                  36                  0.040545   \n",
       "                                            35                  0.086684   \n",
       "                                            34                  0.092884   \n",
       "                         1                  35                  0.035397   \n",
       "                         0                  33                  0.137385   \n",
       "...                                                                  ...   \n",
       "20            0          176                191                 0.099541   \n",
       "                         177                191                 0.024882   \n",
       "                         178                191                 0.000993   \n",
       "                         138                144                 1.126883   \n",
       "                         177                190                 0.000441   \n",
       "\n",
       "                                                                          nu  \\\n",
       "atomic_number ion_number level_number_lower level_number_upper                 \n",
       "14            5          0                  36                  4.489793e+16   \n",
       "                                            35                  4.332011e+16   \n",
       "                                            34                  4.330008e+16   \n",
       "                         1                  35                  4.316790e+16   \n",
       "                         0                  33                  4.211692e+16   \n",
       "...                                                                      ...   \n",
       "20            0          176                191                 3.021908e+12   \n",
       "                         177                191                 3.020409e+12   \n",
       "                         178                191                 3.017411e+12   \n",
       "                         138                144                 3.004520e+12   \n",
       "                         177                190                 2.998224e+12   \n",
       "\n",
       "                                                                        B_lu  \\\n",
       "atomic_number ion_number level_number_lower level_number_upper                 \n",
       "14            5          0                  36                  4.545377e+07   \n",
       "                                            35                  1.007179e+08   \n",
       "                                            34                  1.079711e+08   \n",
       "                         1                  35                  4.127293e+07   \n",
       "                         0                  33                  1.641873e+08   \n",
       "...                                                                      ...   \n",
       "20            0          176                191                 1.657964e+12   \n",
       "                         177                191                 4.146381e+11   \n",
       "                         178                191                 1.656730e+10   \n",
       "                         138                144                 1.887817e+13   \n",
       "                         177                190                 7.410898e+09   \n",
       "\n",
       "                                                                        B_ul  \\\n",
       "atomic_number ion_number level_number_lower level_number_upper                 \n",
       "14            5          0                  36                  3.030251e+07   \n",
       "                                            35                  1.007179e+08   \n",
       "                                            34                  7.198073e+07   \n",
       "                         1                  35                  2.063646e+07   \n",
       "                         0                  33                  1.094582e+08   \n",
       "...                                                                      ...   \n",
       "20            0          176                191                 5.526546e+11   \n",
       "                         177                191                 4.146381e+11   \n",
       "                         178                191                 2.761217e+10   \n",
       "                         138                144                 5.663451e+13   \n",
       "                         177                190                 4.446539e+09   \n",
       "\n",
       "                                                                        A_ul  \\\n",
       "atomic_number ion_number level_number_lower level_number_upper                 \n",
       "14            5          0                  36                  4.043917e+10   \n",
       "                                            35                  1.207313e+11   \n",
       "                                            34                  8.616424e+10   \n",
       "                         1                  35                  2.447726e+10   \n",
       "                         0                  33                  1.205765e+11   \n",
       "...                                                                      ...   \n",
       "20            0          176                191                 2.248754e+02   \n",
       "                         177                191                 1.684655e+02   \n",
       "                         178                191                 1.118532e+01   \n",
       "                         138                144                 2.264910e+04   \n",
       "                         177                190                 1.767092e+00   \n",
       "\n",
       "                                                                wavelength_cm  \n",
       "atomic_number ion_number level_number_lower level_number_upper                 \n",
       "14            5          0                  36                   6.677200e-07  \n",
       "                                            35                   6.920400e-07  \n",
       "                                            34                   6.923600e-07  \n",
       "                         1                  35                   6.944800e-07  \n",
       "                         0                  33                   7.118100e-07  \n",
       "...                                                                       ...  \n",
       "20            0          176                191                  9.920635e-03  \n",
       "                         177                191                  9.925558e-03  \n",
       "                         178                191                  9.935420e-03  \n",
       "                         138                144                  9.978048e-03  \n",
       "                         177                190                  9.999000e-03  \n",
       "\n",
       "[29224 rows x 9 columns]"
      ]
     },
     "execution_count": 32,
     "metadata": {},
     "output_type": "execute_result"
    }
   ],
   "source": [
    "sim.plasma.atomic_data.lines"
   ]
  },
  {
   "cell_type": "code",
   "execution_count": 34,
   "id": "de24247d",
   "metadata": {
    "scrolled": true
   },
   "outputs": [
    {
     "data": {
      "text/plain": [
       "(29224,)"
      ]
     },
     "execution_count": 34,
     "metadata": {},
     "output_type": "execute_result"
    }
   ],
   "source": [
    "numba_plasma0.line_list_nu.shape"
   ]
  },
  {
   "cell_type": "code",
   "execution_count": null,
   "id": "dfb23c3d",
   "metadata": {},
   "outputs": [],
   "source": []
  }
 ],
 "metadata": {
  "kernelspec": {
   "display_name": "Python 3",
   "language": "python",
   "name": "python3"
  },
  "language_info": {
   "codemirror_mode": {
    "name": "ipython",
    "version": 3
   },
   "file_extension": ".py",
   "mimetype": "text/x-python",
   "name": "python",
   "nbconvert_exporter": "python",
   "pygments_lexer": "ipython3",
   "version": "3.7.10"
  }
 },
 "nbformat": 4,
 "nbformat_minor": 5
}
