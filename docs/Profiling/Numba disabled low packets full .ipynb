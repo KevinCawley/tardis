{
 "cells": [
  {
   "cell_type": "code",
   "execution_count": 1,
   "id": "4a658a31",
   "metadata": {},
   "outputs": [],
   "source": [
    "import cProfile\n",
    "%load_ext line_profiler"
   ]
  },
  {
   "cell_type": "code",
   "execution_count": 2,
   "id": "378ec716",
   "metadata": {},
   "outputs": [],
   "source": [
    "import os\n",
    "os.environ['NUMBA_DISABLE_JIT'] = '1'"
   ]
  },
  {
   "cell_type": "code",
   "execution_count": 3,
   "id": "96c6c485",
   "metadata": {},
   "outputs": [
    {
     "name": "stdout",
     "output_type": "stream",
     "text": [
      "[\u001b[1mtardis.io.atom_data.atom_web_download\u001b[0m][\u001b[1;37mINFO\u001b[0m   ]  Downloading atomic data from https://media.githubusercontent.com/media/tardis-sn/tardis-refdata/master/atom_data/kurucz_cd23_chianti_H_He.h5 to /home/kevin/Downloads/tardis-data/kurucz_cd23_chianti_H_He.h5 (\u001b[1matom_web_download.py\u001b[0m:46)\n"
     ]
    }
   ],
   "source": [
    "from tardis.io.config_reader import Configuration\n",
    "from tardis.io.atom_data.base import AtomData\n",
    "from tardis.simulation import Simulation\n",
    "from tardis import run_tardis\n",
    "from tardis.io.atom_data.util import download_atom_data\n",
    "download_atom_data('kurucz_cd23_chianti_H_He')"
   ]
  },
  {
   "cell_type": "code",
   "execution_count": 4,
   "id": "348ea187",
   "metadata": {},
   "outputs": [
    {
     "name": "stdout",
     "output_type": "stream",
     "text": [
      "[\u001b[1mtardis.plasma.standard_plasmas\u001b[0m][\u001b[1;37mINFO\u001b[0m   ]  Reading Atomic Data from kurucz_cd23_chianti_H_He.h5 (\u001b[1mstandard_plasmas.py\u001b[0m:91)\n",
      "[\u001b[1mtardis.io.atom_data.util\u001b[0m][\u001b[1;37mINFO\u001b[0m   ]  Atom Data kurucz_cd23_chianti_H_He.h5 not found in local path. Exists in TARDIS Data repo /home/kevin/Downloads/tardis-data/kurucz_cd23_chianti_H_He.h5 (\u001b[1mutil.py\u001b[0m:34)\n",
      "[\u001b[1mtardis.io.atom_data.base\u001b[0m][\u001b[1;37mINFO\u001b[0m   ]  Read Atom Data with UUID=6f7b09e887a311e7a06b246e96350010 and MD5=864f1753714343c41f99cb065710cace. (\u001b[1mbase.py\u001b[0m:179)\n",
      "[\u001b[1mtardis.io.atom_data.base\u001b[0m][\u001b[1;37mINFO\u001b[0m   ]  Non provided atomic data: synpp_refs, photoionization_data, yg_data, two_photon_data (\u001b[1mbase.py\u001b[0m:183)\n"
     ]
    }
   ],
   "source": [
    "tardis_config = Configuration.from_yaml('tardis_low_packets.yml')\n",
    "sim = Simulation.from_config(tardis_config)"
   ]
  },
  {
   "cell_type": "code",
   "execution_count": 5,
   "id": "f35b20af",
   "metadata": {
    "scrolled": true
   },
   "outputs": [
    {
     "name": "stdout",
     "output_type": "stream",
     "text": [
      "[\u001b[1mtardis.simulation.base\u001b[0m][\u001b[1;37mINFO\u001b[0m   ]  Starting iteration 1/1 (\u001b[1mbase.py\u001b[0m:323)\n",
      "[\u001b[1mpy.warnings         \u001b[0m][\u001b[1;33mWARNING\u001b[0m]  /home/kevin/miniconda3/envs/tardis/lib/python3.7/site-packages/astropy/units/equivalencies.py:124: RuntimeWarning: divide by zero encountered in double_scalars\n",
      "  (si.m, si.Hz, lambda x: _si.c.value / x),\n",
      " (\u001b[1mwarnings.py\u001b[0m:110)\n",
      "Running post-merge numba montecarlo (with C close lines)!\n",
      "[\u001b[1mtardis.simulation.base\u001b[0m][\u001b[1;37mINFO\u001b[0m   ]  Luminosity emitted = 8.26944e+42 erg / s Luminosity absorbed = 2.36367e+42 erg / s Luminosity requested = 1.05928e+43 erg / s (\u001b[1mbase.py\u001b[0m:438)\n",
      "[\u001b[1mtardis.simulation.base\u001b[0m][\u001b[1;37mINFO\u001b[0m   ]  Simulation finished in 1 iterations and took 0.21 s (\u001b[1mbase.py\u001b[0m:381)\n"
     ]
    }
   ],
   "source": [
    "cProfile.run('sim.run()', 'cprofile_tardis_low_packets.txt')"
   ]
  },
  {
   "cell_type": "code",
   "execution_count": 6,
   "id": "aec3fe4e",
   "metadata": {},
   "outputs": [],
   "source": [
    "import pstats\n",
    "from pstats import SortKey\n",
    "p = pstats.Stats('cprofile_tardis_low_packets.txt')"
   ]
  },
  {
   "cell_type": "code",
   "execution_count": 15,
   "id": "21e4e50d",
   "metadata": {},
   "outputs": [
    {
     "name": "stdout",
     "output_type": "stream",
     "text": [
      "Fri Jun  4 12:57:13 2021    cprofile_tardis_low_packets.txt\n",
      "\n",
      "         248854 function calls (245332 primitive calls) in 0.209 seconds\n",
      "\n",
      "   Ordered by: call count\n",
      "   List reduced from 746 to 3 due to restriction <'calculate_distances.py'>\n",
      "\n",
      "   ncalls  tottime  percall  cumtime  percall filename:lineno(function)\n",
      "    23158    0.017    0.000    0.017    0.000 /home/kevin/tardis/tardis/montecarlo/montecarlo_numba/calculate_distances.py:62(calculate_distance_line)\n",
      "    23158    0.006    0.000    0.006    0.000 /home/kevin/tardis/tardis/montecarlo/montecarlo_numba/calculate_distances.py:136(calculate_distance_electron)\n",
      "     1764    0.002    0.000    0.002    0.000 /home/kevin/tardis/tardis/montecarlo/montecarlo_numba/calculate_distances.py:19(calculate_distance_boundary)\n",
      "\n",
      "\n"
     ]
    },
    {
     "data": {
      "text/plain": [
       "<pstats.Stats at 0x7fbd9d7fb510>"
      ]
     },
     "execution_count": 15,
     "metadata": {},
     "output_type": "execute_result"
    }
   ],
   "source": [
    "p.sort_stats(SortKey.CALLS).print_stats('calculate_distances.py')"
   ]
  },
  {
   "cell_type": "code",
   "execution_count": 14,
   "id": "508ab127",
   "metadata": {
    "scrolled": false
   },
   "outputs": [
    {
     "name": "stdout",
     "output_type": "stream",
     "text": [
      "Fri Jun  4 12:57:13 2021    cprofile_tardis_low_packets.txt\n",
      "\n",
      "         248854 function calls (245332 primitive calls) in 0.209 seconds\n",
      "\n",
      "   Ordered by: call count\n",
      "   List reduced from 746 to 6 due to restriction <'r_packet.py'>\n",
      "\n",
      "   ncalls  tottime  percall  cumtime  percall filename:lineno(function)\n",
      "    21452    0.015    0.000    0.016    0.000 /home/kevin/tardis/tardis/montecarlo/montecarlo_numba/r_packet.py:325(test_for_close_line)\n",
      "     1764    0.058    0.000    0.141    0.000 /home/kevin/tardis/tardis/montecarlo/montecarlo_numba/r_packet.py:95(trace_packet)\n",
      "     1764    0.006    0.000    0.009    0.000 /home/kevin/tardis/tardis/montecarlo/montecarlo_numba/r_packet.py:250(move_r_packet)\n",
      "     1635    0.000    0.000    0.000    0.000 /home/kevin/tardis/tardis/montecarlo/montecarlo_numba/r_packet.py:297(move_packet_across_shell_boundary)\n",
      "      100    0.000    0.000    0.000    0.000 /home/kevin/tardis/tardis/montecarlo/montecarlo_numba/r_packet.py:66(__init__)\n",
      "      100    0.000    0.000    0.001    0.000 /home/kevin/tardis/tardis/montecarlo/montecarlo_numba/r_packet.py:81(initialize_line_id)\n",
      "\n",
      "\n"
     ]
    },
    {
     "data": {
      "text/plain": [
       "<pstats.Stats at 0x7fbd9d7fb510>"
      ]
     },
     "execution_count": 14,
     "metadata": {},
     "output_type": "execute_result"
    }
   ],
   "source": [
    "p.sort_stats(SortKey.CALLS).print_stats('r_packet.py')"
   ]
  },
  {
   "cell_type": "code",
   "execution_count": 13,
   "id": "7a34d05c",
   "metadata": {
    "scrolled": true
   },
   "outputs": [
    {
     "name": "stdout",
     "output_type": "stream",
     "text": [
      "Fri Jun  4 12:57:13 2021    cprofile_tardis_low_packets.txt\n",
      "\n",
      "         248854 function calls (245332 primitive calls) in 0.209 seconds\n",
      "\n",
      "   Ordered by: call count\n",
      "   List reduced from 746 to 1 due to restriction <'vpacket.py'>\n",
      "\n",
      "   ncalls  tottime  percall  cumtime  percall filename:lineno(function)\n",
      "      229    0.000    0.000    0.000    0.000 /home/kevin/tardis/tardis/montecarlo/montecarlo_numba/vpacket.py:200(trace_vpacket_volley)\n",
      "\n",
      "\n"
     ]
    },
    {
     "data": {
      "text/plain": [
       "<pstats.Stats at 0x7fbd9d7fb510>"
      ]
     },
     "execution_count": 13,
     "metadata": {},
     "output_type": "execute_result"
    }
   ],
   "source": [
    "p.sort_stats(SortKey.CALLS).print_stats('vpacket.py')"
   ]
  },
  {
   "cell_type": "code",
   "execution_count": 7,
   "id": "c68ff4e2",
   "metadata": {},
   "outputs": [
    {
     "name": "stdout",
     "output_type": "stream",
     "text": [
      "Fri Jun  4 12:57:13 2021    cprofile_tardis_low_packets.txt\n",
      "\n",
      "         248854 function calls (245332 primitive calls) in 0.209 seconds\n",
      "\n",
      "   Ordered by: call count\n",
      "   List reduced from 746 to 76 due to restriction <'/home/kevin/tardis/'>\n",
      "\n",
      "   ncalls  tottime  percall  cumtime  percall filename:lineno(function)\n",
      "    23158    0.005    0.000    0.005    0.000 /home/kevin/tardis/tardis/montecarlo/montecarlo_numba/opacities.py:12(calculate_tau_electron)\n",
      "    23158    0.017    0.000    0.017    0.000 /home/kevin/tardis/tardis/montecarlo/montecarlo_numba/calculate_distances.py:62(calculate_distance_line)\n",
      "    23158    0.006    0.000    0.006    0.000 /home/kevin/tardis/tardis/montecarlo/montecarlo_numba/calculate_distances.py:136(calculate_distance_electron)\n",
      "    21452    0.015    0.000    0.016    0.000 /home/kevin/tardis/tardis/montecarlo/montecarlo_numba/r_packet.py:325(test_for_close_line)\n",
      "    21452    0.023    0.000    0.034    0.000 /home/kevin/tardis/tardis/montecarlo/montecarlo_numba/estimators.py:42(update_line_estimators)\n",
      "    21452    0.011    0.000    0.011    0.000 /home/kevin/tardis/tardis/montecarlo/montecarlo_numba/frame_transformations.py:72(calc_packet_energy)\n",
      "     3757    0.002    0.000    0.003    0.000 /home/kevin/tardis/tardis/montecarlo/montecarlo_numba/frame_transformations.py:15(get_doppler_factor)\n",
      "     3757    0.001    0.000    0.001    0.000 /home/kevin/tardis/tardis/montecarlo/montecarlo_numba/frame_transformations.py:26(get_doppler_factor_partial_relativity)\n",
      "     1764    0.058    0.000    0.141    0.000 /home/kevin/tardis/tardis/montecarlo/montecarlo_numba/r_packet.py:95(trace_packet)\n",
      "     1764    0.006    0.000    0.009    0.000 /home/kevin/tardis/tardis/montecarlo/montecarlo_numba/r_packet.py:250(move_r_packet)\n",
      "     1764    0.002    0.000    0.002    0.000 /home/kevin/tardis/tardis/montecarlo/montecarlo_numba/estimators.py:17(set_estimators)\n",
      "     1764    0.002    0.000    0.002    0.000 /home/kevin/tardis/tardis/montecarlo/montecarlo_numba/calculate_distances.py:19(calculate_distance_boundary)\n",
      "     1635    0.000    0.000    0.000    0.000 /home/kevin/tardis/tardis/montecarlo/montecarlo_numba/r_packet.py:297(move_packet_across_shell_boundary)\n",
      "      287    0.000    0.000    0.000    0.000 /home/kevin/tardis/tardis/montecarlo/montecarlo_numba/frame_transformations.py:36(get_inverse_doppler_factor)\n",
      "      287    0.000    0.000    0.000    0.000 /home/kevin/tardis/tardis/montecarlo/montecarlo_numba/frame_transformations.py:56(get_inverse_doppler_factor_partial_relativity)\n",
      "      229    0.000    0.000    0.000    0.000 /home/kevin/tardis/tardis/montecarlo/montecarlo_numba/vpacket.py:200(trace_vpacket_volley)\n",
      "      129    0.000    0.000    0.000    0.000 /home/kevin/tardis/tardis/montecarlo/montecarlo_numba/utils.py:12(get_random_mu)\n",
      "      100    0.000    0.000    0.000    0.000 /home/kevin/tardis/tardis/montecarlo/montecarlo_numba/r_packet.py:66(__init__)\n",
      "      100    0.000    0.000    0.001    0.000 /home/kevin/tardis/tardis/montecarlo/montecarlo_numba/r_packet.py:81(initialize_line_id)\n",
      "      100    0.004    0.000    0.163    0.002 /home/kevin/tardis/tardis/montecarlo/montecarlo_numba/single_packet_loop.py:38(single_packet_loop)\n",
      "      100    0.001    0.000    0.002    0.000 /home/kevin/tardis/tardis/montecarlo/montecarlo_numba/numba_interface.py:208(__init__)\n",
      "      100    0.000    0.000    0.000    0.000 /home/kevin/tardis/tardis/montecarlo/montecarlo_numba/single_packet_loop.py:136(set_packet_props_partial_relativity)\n",
      "       71    0.000    0.000    0.000    0.000 /home/kevin/tardis/tardis/montecarlo/montecarlo_numba/interaction.py:23(thomson_scatter)\n",
      "       58    0.000    0.000    0.007    0.000 /home/kevin/tardis/tardis/montecarlo/montecarlo_numba/interaction.py:56(line_scatter)\n",
      "       58    0.000    0.000    0.000    0.000 /home/kevin/tardis/tardis/montecarlo/montecarlo_numba/interaction.py:90(line_emission)\n",
      "       58    0.006    0.000    0.006    0.000 /home/kevin/tardis/tardis/montecarlo/montecarlo_numba/macro_atom.py:21(macro_atom)\n",
      "       11    0.000    0.000    0.000    0.000 /home/kevin/tardis/tardis/plasma/base.py:32(__getattr__)\n",
      "       11    0.000    0.000    0.000    0.000 /home/kevin/tardis/tardis/plasma/base.py:58(get_value)\n",
      "        9    0.000    0.000    0.000    0.000 /home/kevin/tardis/tardis/montecarlo/base.py:322(output_energy)\n",
      "        8    0.000    0.000    0.000    0.000 /home/kevin/tardis/tardis/model/base.py:224(velocity)\n",
      "        6    0.000    0.000    0.000    0.000 /home/kevin/tardis/tardis/montecarlo/base.py:372(emitted_packet_mask)\n",
      "        4    0.000    0.000    0.000    0.000 /home/kevin/tardis/tardis/model/base.py:234(v_inner)\n",
      "        4    0.000    0.000    0.000    0.000 /home/kevin/tardis/tardis/montecarlo/base.py:318(output_nu)\n",
      "        4    0.000    0.000    0.000    0.000 /home/kevin/tardis/tardis/util/colored_logger.py:35(format)\n",
      "        3    0.000    0.000    0.000    0.000 /home/kevin/tardis/tardis/model/base.py:211(r_inner)\n",
      "        2    0.000    0.000    0.000    0.000 /home/kevin/tardis/tardis/model/base.py:215(r_outer)\n",
      "        2    0.000    0.000    0.000    0.000 /home/kevin/tardis/tardis/model/base.py:238(v_outer)\n",
      "        2    0.000    0.000    0.000    0.000 /home/kevin/tardis/tardis/model/base.py:265(no_of_shells)\n",
      "        2    0.000    0.000    0.000    0.000 /home/kevin/tardis/tardis/montecarlo/base.py:368(packet_luminosity)\n",
      "        2    0.000    0.000    0.000    0.000 /home/kevin/tardis/tardis/montecarlo/base.py:376(emitted_packet_nu)\n",
      "        2    0.000    0.000    0.000    0.000 /home/kevin/tardis/tardis/montecarlo/base.py:380(reabsorbed_packet_nu)\n",
      "        2    0.000    0.000    0.000    0.000 /home/kevin/tardis/tardis/io/config_reader.py:142(__getitem__)\n",
      "        2    0.000    0.000    0.000    0.000 /home/kevin/tardis/tardis/io/config_reader.py:145(__getattr__)\n",
      "        1    0.000    0.000    0.000    0.000 /home/kevin/tardis/tardis/model/base.py:119(w)\n",
      "        1    0.000    0.000    0.000    0.000 /home/kevin/tardis/tardis/model/base.py:127(t_rad)\n",
      "        1    0.000    0.000    0.000    0.000 /home/kevin/tardis/tardis/model/base.py:136(dilution_factor)\n",
      "        1    0.000    0.000    0.000    0.000 /home/kevin/tardis/tardis/model/base.py:171(t_radiative)\n",
      "        1    0.000    0.000    0.002    0.002 /home/kevin/tardis/tardis/model/base.py:261(volume)\n",
      "        1    0.000    0.000    0.000    0.000 /home/kevin/tardis/tardis/montecarlo/packet_source.py:20(create_zero_limb_darkening_packet_mus)\n",
      "        1    0.000    0.000    0.000    0.000 /home/kevin/tardis/tardis/montecarlo/packet_source.py:38(create_uniform_packet_energies)\n",
      "        1    0.000    0.000    0.001    0.001 /home/kevin/tardis/tardis/montecarlo/packet_source.py:56(create_blackbody_packet_nus)\n",
      "        1    0.000    0.000    0.001    0.001 /home/kevin/tardis/tardis/montecarlo/packet_source.py:113(create_packets)\n",
      "        1    0.000    0.000    0.173    0.173 /home/kevin/tardis/tardis/montecarlo/montecarlo_numba/base.py:30(montecarlo_radial1d)\n",
      "        1    0.002    0.002    0.170    0.170 /home/kevin/tardis/tardis/montecarlo/montecarlo_numba/base.py:104(montecarlo_main_loop)\n",
      "        1    0.000    0.000    0.000    0.000 /home/kevin/tardis/tardis/montecarlo/montecarlo_numba/numba_interface.py:26(__init__)\n",
      "        1    0.000    0.000    0.000    0.000 /home/kevin/tardis/tardis/montecarlo/montecarlo_numba/numba_interface.py:56(__init__)\n",
      "        1    0.000    0.000    0.004    0.004 /home/kevin/tardis/tardis/montecarlo/montecarlo_numba/numba_interface.py:100(numba_plasma_initialize)\n",
      "        1    0.000    0.000    0.000    0.000 /home/kevin/tardis/tardis/montecarlo/montecarlo_numba/numba_interface.py:174(__init__)\n",
      "        1    0.000    0.000    0.000    0.000 /home/kevin/tardis/tardis/montecarlo/montecarlo_numba/numba_interface.py:282(__init__)\n",
      "        1    0.000    0.000    0.003    0.003 /home/kevin/tardis/tardis/montecarlo/montecarlo_numba/numba_interface.py:291(configuration_initialize)\n",
      "        1    0.000    0.000    0.001    0.001 /home/kevin/tardis/tardis/montecarlo/base.py:167(_initialize_packets)\n",
      "        1    0.000    0.000    0.202    0.202 /home/kevin/tardis/tardis/montecarlo/base.py:255(run)\n",
      "        1    0.000    0.000    0.000    0.000 /home/kevin/tardis/tardis/montecarlo/base.py:384(emitted_packet_luminosity)\n",
      "        1    0.000    0.000    0.000    0.000 /home/kevin/tardis/tardis/montecarlo/base.py:388(reabsorbed_packet_luminosity)\n",
      "        1    0.000    0.000    0.000    0.000 /home/kevin/tardis/tardis/montecarlo/base.py:421(calculate_emitted_luminosity)\n",
      "        1    0.000    0.000    0.000    0.000 /home/kevin/tardis/tardis/montecarlo/base.py:444(calculate_reabsorbed_luminosity)\n",
      "        1    0.000    0.000    0.020    0.020 /home/kevin/tardis/tardis/montecarlo/base.py:498(calculate_luminosity_inner)\n",
      "        1    0.000    0.000    0.020    0.020 /home/kevin/tardis/tardis/montecarlo/base.py:516(calculate_time_of_simulation)\n",
      "        1    0.000    0.000    0.207    0.207 /home/kevin/tardis/tardis/simulation/base.py:321(iterate)\n",
      "        1    0.000    0.000    0.209    0.209 /home/kevin/tardis/tardis/simulation/base.py:347(run)\n",
      "        1    0.000    0.000    0.002    0.002 /home/kevin/tardis/tardis/simulation/base.py:436(log_run_results)\n",
      "        1    0.000    0.000    0.000    0.000 /home/kevin/tardis/tardis/simulation/base.py:443(_call_back)\n",
      "        1    0.000    0.000    0.000    0.000 /home/kevin/tardis/tardis/montecarlo/base.py:140(_initialize_estimator_arrays)\n",
      "        1    0.000    0.000    0.000    0.000 /home/kevin/tardis/tardis/montecarlo/base.py:156(_initialize_geometry_arrays)\n",
      "        1    0.000    0.000    0.000    0.000 /home/kevin/tardis/tardis/simulation/base.py:38(store_plasma_state)\n",
      "        1    0.000    0.000    0.000    0.000 /home/kevin/tardis/tardis/simulation/base.py:60(reshape_plasma_state_store)\n",
      "\n",
      "\n"
     ]
    },
    {
     "data": {
      "text/plain": [
       "<pstats.Stats at 0x7fbd9d7fb510>"
      ]
     },
     "execution_count": 7,
     "metadata": {},
     "output_type": "execute_result"
    }
   ],
   "source": [
    "p.sort_stats(SortKey.CALLS).print_stats('/home/kevin/tardis/', 100)"
   ]
  },
  {
   "cell_type": "code",
   "execution_count": 8,
   "id": "06097bb0",
   "metadata": {},
   "outputs": [
    {
     "name": "stdout",
     "output_type": "stream",
     "text": [
      "Fri Jun  4 12:57:13 2021    cprofile_tardis_low_packets.txt\n",
      "\n",
      "         248854 function calls (245332 primitive calls) in 0.209 seconds\n",
      "\n",
      "   Ordered by: internal time\n",
      "   List reduced from 746 to 76 due to restriction <'/home/kevin/tardis/'>\n",
      "\n",
      "   ncalls  tottime  percall  cumtime  percall filename:lineno(function)\n",
      "     1764    0.058    0.000    0.141    0.000 /home/kevin/tardis/tardis/montecarlo/montecarlo_numba/r_packet.py:95(trace_packet)\n",
      "    21452    0.023    0.000    0.034    0.000 /home/kevin/tardis/tardis/montecarlo/montecarlo_numba/estimators.py:42(update_line_estimators)\n",
      "    23158    0.017    0.000    0.017    0.000 /home/kevin/tardis/tardis/montecarlo/montecarlo_numba/calculate_distances.py:62(calculate_distance_line)\n",
      "    21452    0.015    0.000    0.016    0.000 /home/kevin/tardis/tardis/montecarlo/montecarlo_numba/r_packet.py:325(test_for_close_line)\n",
      "    21452    0.011    0.000    0.011    0.000 /home/kevin/tardis/tardis/montecarlo/montecarlo_numba/frame_transformations.py:72(calc_packet_energy)\n",
      "     1764    0.006    0.000    0.009    0.000 /home/kevin/tardis/tardis/montecarlo/montecarlo_numba/r_packet.py:250(move_r_packet)\n",
      "       58    0.006    0.000    0.006    0.000 /home/kevin/tardis/tardis/montecarlo/montecarlo_numba/macro_atom.py:21(macro_atom)\n",
      "    23158    0.006    0.000    0.006    0.000 /home/kevin/tardis/tardis/montecarlo/montecarlo_numba/calculate_distances.py:136(calculate_distance_electron)\n",
      "    23158    0.005    0.000    0.005    0.000 /home/kevin/tardis/tardis/montecarlo/montecarlo_numba/opacities.py:12(calculate_tau_electron)\n",
      "      100    0.004    0.000    0.163    0.002 /home/kevin/tardis/tardis/montecarlo/montecarlo_numba/single_packet_loop.py:38(single_packet_loop)\n",
      "     3757    0.002    0.000    0.003    0.000 /home/kevin/tardis/tardis/montecarlo/montecarlo_numba/frame_transformations.py:15(get_doppler_factor)\n",
      "     1764    0.002    0.000    0.002    0.000 /home/kevin/tardis/tardis/montecarlo/montecarlo_numba/calculate_distances.py:19(calculate_distance_boundary)\n",
      "     1764    0.002    0.000    0.002    0.000 /home/kevin/tardis/tardis/montecarlo/montecarlo_numba/estimators.py:17(set_estimators)\n",
      "        1    0.002    0.002    0.170    0.170 /home/kevin/tardis/tardis/montecarlo/montecarlo_numba/base.py:104(montecarlo_main_loop)\n",
      "     3757    0.001    0.000    0.001    0.000 /home/kevin/tardis/tardis/montecarlo/montecarlo_numba/frame_transformations.py:26(get_doppler_factor_partial_relativity)\n",
      "      100    0.001    0.000    0.002    0.000 /home/kevin/tardis/tardis/montecarlo/montecarlo_numba/numba_interface.py:208(__init__)\n",
      "     1635    0.000    0.000    0.000    0.000 /home/kevin/tardis/tardis/montecarlo/montecarlo_numba/r_packet.py:297(move_packet_across_shell_boundary)\n",
      "      100    0.000    0.000    0.001    0.000 /home/kevin/tardis/tardis/montecarlo/montecarlo_numba/r_packet.py:81(initialize_line_id)\n",
      "      287    0.000    0.000    0.000    0.000 /home/kevin/tardis/tardis/montecarlo/montecarlo_numba/frame_transformations.py:36(get_inverse_doppler_factor)\n",
      "        1    0.000    0.000    0.000    0.000 /home/kevin/tardis/tardis/simulation/base.py:38(store_plasma_state)\n",
      "       71    0.000    0.000    0.000    0.000 /home/kevin/tardis/tardis/montecarlo/montecarlo_numba/interaction.py:23(thomson_scatter)\n",
      "       58    0.000    0.000    0.007    0.000 /home/kevin/tardis/tardis/montecarlo/montecarlo_numba/interaction.py:56(line_scatter)\n",
      "       58    0.000    0.000    0.000    0.000 /home/kevin/tardis/tardis/montecarlo/montecarlo_numba/interaction.py:90(line_emission)\n",
      "      287    0.000    0.000    0.000    0.000 /home/kevin/tardis/tardis/montecarlo/montecarlo_numba/frame_transformations.py:56(get_inverse_doppler_factor_partial_relativity)\n",
      "      229    0.000    0.000    0.000    0.000 /home/kevin/tardis/tardis/montecarlo/montecarlo_numba/vpacket.py:200(trace_vpacket_volley)\n",
      "      100    0.000    0.000    0.000    0.000 /home/kevin/tardis/tardis/montecarlo/montecarlo_numba/r_packet.py:66(__init__)\n",
      "      100    0.000    0.000    0.000    0.000 /home/kevin/tardis/tardis/montecarlo/montecarlo_numba/single_packet_loop.py:136(set_packet_props_partial_relativity)\n",
      "        1    0.000    0.000    0.004    0.004 /home/kevin/tardis/tardis/montecarlo/montecarlo_numba/numba_interface.py:100(numba_plasma_initialize)\n",
      "      129    0.000    0.000    0.000    0.000 /home/kevin/tardis/tardis/montecarlo/montecarlo_numba/utils.py:12(get_random_mu)\n",
      "        1    0.000    0.000    0.001    0.001 /home/kevin/tardis/tardis/montecarlo/packet_source.py:56(create_blackbody_packet_nus)\n",
      "        1    0.000    0.000    0.173    0.173 /home/kevin/tardis/tardis/montecarlo/montecarlo_numba/base.py:30(montecarlo_radial1d)\n",
      "        1    0.000    0.000    0.001    0.001 /home/kevin/tardis/tardis/montecarlo/base.py:167(_initialize_packets)\n",
      "        1    0.000    0.000    0.202    0.202 /home/kevin/tardis/tardis/montecarlo/base.py:255(run)\n",
      "        1    0.000    0.000    0.207    0.207 /home/kevin/tardis/tardis/simulation/base.py:321(iterate)\n",
      "        1    0.000    0.000    0.003    0.003 /home/kevin/tardis/tardis/montecarlo/montecarlo_numba/numba_interface.py:291(configuration_initialize)\n",
      "        1    0.000    0.000    0.209    0.209 /home/kevin/tardis/tardis/simulation/base.py:347(run)\n",
      "        6    0.000    0.000    0.000    0.000 /home/kevin/tardis/tardis/montecarlo/base.py:372(emitted_packet_mask)\n",
      "       11    0.000    0.000    0.000    0.000 /home/kevin/tardis/tardis/plasma/base.py:32(__getattr__)\n",
      "        4    0.000    0.000    0.000    0.000 /home/kevin/tardis/tardis/util/colored_logger.py:35(format)\n",
      "        1    0.000    0.000    0.000    0.000 /home/kevin/tardis/tardis/montecarlo/base.py:421(calculate_emitted_luminosity)\n",
      "        1    0.000    0.000    0.020    0.020 /home/kevin/tardis/tardis/montecarlo/base.py:498(calculate_luminosity_inner)\n",
      "        1    0.000    0.000    0.002    0.002 /home/kevin/tardis/tardis/model/base.py:261(volume)\n",
      "        9    0.000    0.000    0.000    0.000 /home/kevin/tardis/tardis/montecarlo/base.py:322(output_energy)\n",
      "       11    0.000    0.000    0.000    0.000 /home/kevin/tardis/tardis/plasma/base.py:58(get_value)\n",
      "        1    0.000    0.000    0.000    0.000 /home/kevin/tardis/tardis/montecarlo/base.py:444(calculate_reabsorbed_luminosity)\n",
      "        3    0.000    0.000    0.000    0.000 /home/kevin/tardis/tardis/model/base.py:211(r_inner)\n",
      "        2    0.000    0.000    0.000    0.000 /home/kevin/tardis/tardis/montecarlo/base.py:380(reabsorbed_packet_nu)\n",
      "        1    0.000    0.000    0.000    0.000 /home/kevin/tardis/tardis/montecarlo/base.py:388(reabsorbed_packet_luminosity)\n",
      "        1    0.000    0.000    0.020    0.020 /home/kevin/tardis/tardis/montecarlo/base.py:516(calculate_time_of_simulation)\n",
      "        1    0.000    0.000    0.000    0.000 /home/kevin/tardis/tardis/montecarlo/base.py:156(_initialize_geometry_arrays)\n",
      "        1    0.000    0.000    0.000    0.000 /home/kevin/tardis/tardis/simulation/base.py:60(reshape_plasma_state_store)\n",
      "        1    0.000    0.000    0.001    0.001 /home/kevin/tardis/tardis/montecarlo/packet_source.py:113(create_packets)\n",
      "        1    0.000    0.000    0.000    0.000 /home/kevin/tardis/tardis/model/base.py:136(dilution_factor)\n",
      "        4    0.000    0.000    0.000    0.000 /home/kevin/tardis/tardis/model/base.py:234(v_inner)\n",
      "        2    0.000    0.000    0.000    0.000 /home/kevin/tardis/tardis/model/base.py:265(no_of_shells)\n",
      "        4    0.000    0.000    0.000    0.000 /home/kevin/tardis/tardis/montecarlo/base.py:318(output_nu)\n",
      "        2    0.000    0.000    0.000    0.000 /home/kevin/tardis/tardis/montecarlo/base.py:368(packet_luminosity)\n",
      "        1    0.000    0.000    0.002    0.002 /home/kevin/tardis/tardis/simulation/base.py:436(log_run_results)\n",
      "        1    0.000    0.000    0.000    0.000 /home/kevin/tardis/tardis/montecarlo/base.py:140(_initialize_estimator_arrays)\n",
      "        2    0.000    0.000    0.000    0.000 /home/kevin/tardis/tardis/io/config_reader.py:142(__getitem__)\n",
      "        2    0.000    0.000    0.000    0.000 /home/kevin/tardis/tardis/model/base.py:215(r_outer)\n",
      "        1    0.000    0.000    0.000    0.000 /home/kevin/tardis/tardis/montecarlo/packet_source.py:38(create_uniform_packet_energies)\n",
      "        1    0.000    0.000    0.000    0.000 /home/kevin/tardis/tardis/montecarlo/montecarlo_numba/numba_interface.py:56(__init__)\n",
      "        1    0.000    0.000    0.000    0.000 /home/kevin/tardis/tardis/montecarlo/montecarlo_numba/numba_interface.py:174(__init__)\n",
      "        2    0.000    0.000    0.000    0.000 /home/kevin/tardis/tardis/montecarlo/base.py:376(emitted_packet_nu)\n",
      "        1    0.000    0.000    0.000    0.000 /home/kevin/tardis/tardis/simulation/base.py:443(_call_back)\n",
      "        2    0.000    0.000    0.000    0.000 /home/kevin/tardis/tardis/model/base.py:238(v_outer)\n",
      "        1    0.000    0.000    0.000    0.000 /home/kevin/tardis/tardis/montecarlo/packet_source.py:20(create_zero_limb_darkening_packet_mus)\n",
      "        1    0.000    0.000    0.000    0.000 /home/kevin/tardis/tardis/montecarlo/base.py:384(emitted_packet_luminosity)\n",
      "        2    0.000    0.000    0.000    0.000 /home/kevin/tardis/tardis/io/config_reader.py:145(__getattr__)\n",
      "        1    0.000    0.000    0.000    0.000 /home/kevin/tardis/tardis/model/base.py:119(w)\n",
      "        1    0.000    0.000    0.000    0.000 /home/kevin/tardis/tardis/model/base.py:171(t_radiative)\n",
      "        8    0.000    0.000    0.000    0.000 /home/kevin/tardis/tardis/model/base.py:224(velocity)\n",
      "        1    0.000    0.000    0.000    0.000 /home/kevin/tardis/tardis/montecarlo/montecarlo_numba/numba_interface.py:26(__init__)\n",
      "        1    0.000    0.000    0.000    0.000 /home/kevin/tardis/tardis/montecarlo/montecarlo_numba/numba_interface.py:282(__init__)\n",
      "        1    0.000    0.000    0.000    0.000 /home/kevin/tardis/tardis/model/base.py:127(t_rad)\n",
      "\n",
      "\n"
     ]
    },
    {
     "data": {
      "text/plain": [
       "<pstats.Stats at 0x7fbd9d7fb510>"
      ]
     },
     "execution_count": 8,
     "metadata": {},
     "output_type": "execute_result"
    }
   ],
   "source": [
    "p.sort_stats(SortKey.TIME).print_stats('/home/kevin/tardis/', 100)"
   ]
  },
  {
   "cell_type": "code",
   "execution_count": 9,
   "id": "ad05d68d",
   "metadata": {
    "scrolled": true
   },
   "outputs": [
    {
     "name": "stdout",
     "output_type": "stream",
     "text": [
      "Fri Jun  4 12:57:13 2021    cprofile_tardis_low_packets.txt\n",
      "\n",
      "         248854 function calls (245332 primitive calls) in 0.209 seconds\n",
      "\n",
      "   Ordered by: call count\n",
      "   List reduced from 746 to 34 due to restriction <'montecarlo_numba/*'>\n",
      "\n",
      "   ncalls  tottime  percall  cumtime  percall filename:lineno(function)\n",
      "    23158    0.005    0.000    0.005    0.000 /home/kevin/tardis/tardis/montecarlo/montecarlo_numba/opacities.py:12(calculate_tau_electron)\n",
      "    23158    0.017    0.000    0.017    0.000 /home/kevin/tardis/tardis/montecarlo/montecarlo_numba/calculate_distances.py:62(calculate_distance_line)\n",
      "    23158    0.006    0.000    0.006    0.000 /home/kevin/tardis/tardis/montecarlo/montecarlo_numba/calculate_distances.py:136(calculate_distance_electron)\n",
      "    21452    0.015    0.000    0.016    0.000 /home/kevin/tardis/tardis/montecarlo/montecarlo_numba/r_packet.py:325(test_for_close_line)\n",
      "    21452    0.023    0.000    0.034    0.000 /home/kevin/tardis/tardis/montecarlo/montecarlo_numba/estimators.py:42(update_line_estimators)\n",
      "    21452    0.011    0.000    0.011    0.000 /home/kevin/tardis/tardis/montecarlo/montecarlo_numba/frame_transformations.py:72(calc_packet_energy)\n",
      "     3757    0.002    0.000    0.003    0.000 /home/kevin/tardis/tardis/montecarlo/montecarlo_numba/frame_transformations.py:15(get_doppler_factor)\n",
      "     3757    0.001    0.000    0.001    0.000 /home/kevin/tardis/tardis/montecarlo/montecarlo_numba/frame_transformations.py:26(get_doppler_factor_partial_relativity)\n",
      "     1764    0.058    0.000    0.141    0.000 /home/kevin/tardis/tardis/montecarlo/montecarlo_numba/r_packet.py:95(trace_packet)\n",
      "     1764    0.006    0.000    0.009    0.000 /home/kevin/tardis/tardis/montecarlo/montecarlo_numba/r_packet.py:250(move_r_packet)\n",
      "     1764    0.002    0.000    0.002    0.000 /home/kevin/tardis/tardis/montecarlo/montecarlo_numba/estimators.py:17(set_estimators)\n",
      "     1764    0.002    0.000    0.002    0.000 /home/kevin/tardis/tardis/montecarlo/montecarlo_numba/calculate_distances.py:19(calculate_distance_boundary)\n",
      "     1635    0.000    0.000    0.000    0.000 /home/kevin/tardis/tardis/montecarlo/montecarlo_numba/r_packet.py:297(move_packet_across_shell_boundary)\n",
      "      287    0.000    0.000    0.000    0.000 /home/kevin/tardis/tardis/montecarlo/montecarlo_numba/frame_transformations.py:36(get_inverse_doppler_factor)\n",
      "      287    0.000    0.000    0.000    0.000 /home/kevin/tardis/tardis/montecarlo/montecarlo_numba/frame_transformations.py:56(get_inverse_doppler_factor_partial_relativity)\n",
      "      229    0.000    0.000    0.000    0.000 /home/kevin/tardis/tardis/montecarlo/montecarlo_numba/vpacket.py:200(trace_vpacket_volley)\n",
      "      129    0.000    0.000    0.000    0.000 /home/kevin/tardis/tardis/montecarlo/montecarlo_numba/utils.py:12(get_random_mu)\n",
      "      100    0.000    0.000    0.000    0.000 /home/kevin/tardis/tardis/montecarlo/montecarlo_numba/r_packet.py:66(__init__)\n",
      "      100    0.000    0.000    0.001    0.000 /home/kevin/tardis/tardis/montecarlo/montecarlo_numba/r_packet.py:81(initialize_line_id)\n",
      "      100    0.004    0.000    0.163    0.002 /home/kevin/tardis/tardis/montecarlo/montecarlo_numba/single_packet_loop.py:38(single_packet_loop)\n",
      "      100    0.001    0.000    0.002    0.000 /home/kevin/tardis/tardis/montecarlo/montecarlo_numba/numba_interface.py:208(__init__)\n",
      "      100    0.000    0.000    0.000    0.000 /home/kevin/tardis/tardis/montecarlo/montecarlo_numba/single_packet_loop.py:136(set_packet_props_partial_relativity)\n",
      "       71    0.000    0.000    0.000    0.000 /home/kevin/tardis/tardis/montecarlo/montecarlo_numba/interaction.py:23(thomson_scatter)\n",
      "       58    0.000    0.000    0.007    0.000 /home/kevin/tardis/tardis/montecarlo/montecarlo_numba/interaction.py:56(line_scatter)\n",
      "       58    0.000    0.000    0.000    0.000 /home/kevin/tardis/tardis/montecarlo/montecarlo_numba/interaction.py:90(line_emission)\n",
      "       58    0.006    0.000    0.006    0.000 /home/kevin/tardis/tardis/montecarlo/montecarlo_numba/macro_atom.py:21(macro_atom)\n",
      "        1    0.000    0.000    0.173    0.173 /home/kevin/tardis/tardis/montecarlo/montecarlo_numba/base.py:30(montecarlo_radial1d)\n",
      "        1    0.002    0.002    0.170    0.170 /home/kevin/tardis/tardis/montecarlo/montecarlo_numba/base.py:104(montecarlo_main_loop)\n",
      "        1    0.000    0.000    0.000    0.000 /home/kevin/tardis/tardis/montecarlo/montecarlo_numba/numba_interface.py:26(__init__)\n",
      "        1    0.000    0.000    0.000    0.000 /home/kevin/tardis/tardis/montecarlo/montecarlo_numba/numba_interface.py:56(__init__)\n",
      "        1    0.000    0.000    0.004    0.004 /home/kevin/tardis/tardis/montecarlo/montecarlo_numba/numba_interface.py:100(numba_plasma_initialize)\n",
      "        1    0.000    0.000    0.000    0.000 /home/kevin/tardis/tardis/montecarlo/montecarlo_numba/numba_interface.py:174(__init__)\n",
      "        1    0.000    0.000    0.000    0.000 /home/kevin/tardis/tardis/montecarlo/montecarlo_numba/numba_interface.py:282(__init__)\n",
      "        1    0.000    0.000    0.003    0.003 /home/kevin/tardis/tardis/montecarlo/montecarlo_numba/numba_interface.py:291(configuration_initialize)\n",
      "\n",
      "\n"
     ]
    },
    {
     "data": {
      "text/plain": [
       "<pstats.Stats at 0x7fbd9d7fb510>"
      ]
     },
     "execution_count": 9,
     "metadata": {},
     "output_type": "execute_result"
    }
   ],
   "source": [
    "p.sort_stats(SortKey.CALLS).print_stats('montecarlo_numba/*', 100)"
   ]
  },
  {
   "cell_type": "code",
   "execution_count": 10,
   "id": "35522652",
   "metadata": {
    "scrolled": true
   },
   "outputs": [
    {
     "name": "stdout",
     "output_type": "stream",
     "text": [
      "Fri Jun  4 12:57:13 2021    cprofile_tardis_low_packets.txt\n",
      "\n",
      "         248854 function calls (245332 primitive calls) in 0.209 seconds\n",
      "\n",
      "   Ordered by: internal time\n",
      "   List reduced from 746 to 2 due to restriction <'montecarlo_numba/base.py'>\n",
      "\n",
      "   ncalls  tottime  percall  cumtime  percall filename:lineno(function)\n",
      "        1    0.002    0.002    0.170    0.170 /home/kevin/tardis/tardis/montecarlo/montecarlo_numba/base.py:104(montecarlo_main_loop)\n",
      "        1    0.000    0.000    0.173    0.173 /home/kevin/tardis/tardis/montecarlo/montecarlo_numba/base.py:30(montecarlo_radial1d)\n",
      "\n",
      "\n"
     ]
    },
    {
     "data": {
      "text/plain": [
       "<pstats.Stats at 0x7fbd9d7fb510>"
      ]
     },
     "execution_count": 10,
     "metadata": {},
     "output_type": "execute_result"
    }
   ],
   "source": [
    "p.sort_stats(SortKey.TIME).print_stats('montecarlo_numba/base.py')"
   ]
  },
  {
   "cell_type": "code",
   "execution_count": 11,
   "id": "c1d1627f",
   "metadata": {},
   "outputs": [
    {
     "name": "stdout",
     "output_type": "stream",
     "text": [
      "Fri Jun  4 12:57:13 2021    cprofile_tardis_low_packets.txt\n",
      "\n",
      "         248854 function calls (245332 primitive calls) in 0.209 seconds\n",
      "\n",
      "   Ordered by: internal time\n",
      "   List reduced from 746 to 2 due to restriction <'single_packet_loop.py'>\n",
      "\n",
      "   ncalls  tottime  percall  cumtime  percall filename:lineno(function)\n",
      "      100    0.004    0.000    0.163    0.002 /home/kevin/tardis/tardis/montecarlo/montecarlo_numba/single_packet_loop.py:38(single_packet_loop)\n",
      "      100    0.000    0.000    0.000    0.000 /home/kevin/tardis/tardis/montecarlo/montecarlo_numba/single_packet_loop.py:136(set_packet_props_partial_relativity)\n",
      "\n",
      "\n"
     ]
    },
    {
     "data": {
      "text/plain": [
       "<pstats.Stats at 0x7fbd9d7fb510>"
      ]
     },
     "execution_count": 11,
     "metadata": {},
     "output_type": "execute_result"
    }
   ],
   "source": [
    "p.sort_stats(SortKey.TIME).print_stats('single_packet_loop.py')"
   ]
  },
  {
   "cell_type": "code",
   "execution_count": 12,
   "id": "860a88ad",
   "metadata": {},
   "outputs": [
    {
     "name": "stdout",
     "output_type": "stream",
     "text": [
      "Fri Jun  4 12:57:13 2021    cprofile_tardis_low_packets.txt\n",
      "\n",
      "         248854 function calls (245332 primitive calls) in 0.209 seconds\n",
      "\n",
      "   Ordered by: internal time\n",
      "   List reduced from 746 to 3 due to restriction <'calculate_distances.py'>\n",
      "\n",
      "   ncalls  tottime  percall  cumtime  percall filename:lineno(function)\n",
      "    23158    0.017    0.000    0.017    0.000 /home/kevin/tardis/tardis/montecarlo/montecarlo_numba/calculate_distances.py:62(calculate_distance_line)\n",
      "    23158    0.006    0.000    0.006    0.000 /home/kevin/tardis/tardis/montecarlo/montecarlo_numba/calculate_distances.py:136(calculate_distance_electron)\n",
      "     1764    0.002    0.000    0.002    0.000 /home/kevin/tardis/tardis/montecarlo/montecarlo_numba/calculate_distances.py:19(calculate_distance_boundary)\n",
      "\n",
      "\n"
     ]
    },
    {
     "data": {
      "text/plain": [
       "<pstats.Stats at 0x7fbd9d7fb510>"
      ]
     },
     "execution_count": 12,
     "metadata": {},
     "output_type": "execute_result"
    }
   ],
   "source": [
    "p.sort_stats(SortKey.TIME).print_stats('calculate_distances.py')"
   ]
  },
  {
   "cell_type": "code",
   "execution_count": null,
   "id": "afa2a584",
   "metadata": {},
   "outputs": [],
   "source": []
  }
 ],
 "metadata": {
  "kernelspec": {
   "display_name": "Python 3",
   "language": "python",
   "name": "python3"
  },
  "language_info": {
   "codemirror_mode": {
    "name": "ipython",
    "version": 3
   },
   "file_extension": ".py",
   "mimetype": "text/x-python",
   "name": "python",
   "nbconvert_exporter": "python",
   "pygments_lexer": "ipython3",
   "version": "3.7.10"
  }
 },
 "nbformat": 4,
 "nbformat_minor": 5
}
