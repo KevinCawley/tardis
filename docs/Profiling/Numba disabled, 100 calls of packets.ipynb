{
 "cells": [
  {
   "cell_type": "code",
   "execution_count": 1,
   "id": "4a658a31",
   "metadata": {},
   "outputs": [],
   "source": [
    "import cProfile\n",
    "%load_ext snakeviz"
   ]
  },
  {
   "cell_type": "code",
   "execution_count": 2,
   "id": "378ec716",
   "metadata": {},
   "outputs": [],
   "source": [
    "import os\n",
    "os.environ['NUMBA_DISABLE_JIT'] = '1'"
   ]
  },
  {
   "cell_type": "code",
   "execution_count": 3,
   "id": "96c6c485",
   "metadata": {},
   "outputs": [
    {
     "name": "stdout",
     "output_type": "stream",
     "text": [
      "[\u001b[1mtardis.io.atom_data.atom_web_download\u001b[0m][\u001b[1;37mINFO\u001b[0m   ]  Downloading atomic data from https://media.githubusercontent.com/media/tardis-sn/tardis-refdata/master/atom_data/kurucz_cd23_chianti_H_He.h5 to /home/kevin/Downloads/tardis-data/kurucz_cd23_chianti_H_He.h5 (\u001b[1matom_web_download.py\u001b[0m:46)\n"
     ]
    }
   ],
   "source": [
    "from tardis.io.config_reader import Configuration\n",
    "from tardis.io.atom_data.base import AtomData\n",
    "from tardis.simulation import Simulation\n",
    "from tardis import run_tardis\n",
    "from tardis.io.atom_data.util import download_atom_data\n",
    "download_atom_data('kurucz_cd23_chianti_H_He')"
   ]
  },
  {
   "cell_type": "code",
   "execution_count": 4,
   "id": "348ea187",
   "metadata": {
    "scrolled": true
   },
   "outputs": [
    {
     "name": "stdout",
     "output_type": "stream",
     "text": [
      "[\u001b[1mtardis.plasma.standard_plasmas\u001b[0m][\u001b[1;37mINFO\u001b[0m   ]  Reading Atomic Data from kurucz_cd23_chianti_H_He.h5 (\u001b[1mstandard_plasmas.py\u001b[0m:91)\n",
      "[\u001b[1mtardis.io.atom_data.util\u001b[0m][\u001b[1;37mINFO\u001b[0m   ]  Atom Data kurucz_cd23_chianti_H_He.h5 not found in local path. Exists in TARDIS Data repo /home/kevin/Downloads/tardis-data/kurucz_cd23_chianti_H_He.h5 (\u001b[1mutil.py\u001b[0m:34)\n",
      "[\u001b[1mtardis.io.atom_data.base\u001b[0m][\u001b[1;37mINFO\u001b[0m   ]  Read Atom Data with UUID=6f7b09e887a311e7a06b246e96350010 and MD5=864f1753714343c41f99cb065710cace. (\u001b[1mbase.py\u001b[0m:179)\n",
      "[\u001b[1mtardis.io.atom_data.base\u001b[0m][\u001b[1;37mINFO\u001b[0m   ]  Non provided atomic data: synpp_refs, photoionization_data, yg_data, two_photon_data (\u001b[1mbase.py\u001b[0m:183)\n"
     ]
    }
   ],
   "source": [
    "tardis_config = Configuration.from_yaml('tardis_low_packets.yml')\n",
    "#tardis_config['montecarlo']['no_of_packets'] = 100\n",
    "#tardis_config['montecarlo']['no_of_virtual_packets'] = 0\n",
    "sim = Simulation.from_config(tardis_config)"
   ]
  },
  {
   "cell_type": "code",
   "execution_count": 5,
   "id": "8fed5c2c",
   "metadata": {
    "scrolled": false
   },
   "outputs": [
    {
     "name": "stdout",
     "output_type": "stream",
     "text": [
      "[\u001b[1mtardis.simulation.base\u001b[0m][\u001b[1;37mINFO\u001b[0m   ]  Starting iteration 1/1 (\u001b[1mbase.py\u001b[0m:323)\n",
      "[\u001b[1mpy.warnings         \u001b[0m][\u001b[1;33mWARNING\u001b[0m]  /home/kevin/miniconda3/envs/tardis/lib/python3.7/site-packages/astropy/units/equivalencies.py:124: RuntimeWarning: divide by zero encountered in double_scalars\n",
      "  (si.m, si.Hz, lambda x: _si.c.value / x),\n",
      " (\u001b[1mwarnings.py\u001b[0m:110)\n",
      "Running post-merge numba montecarlo (with C close lines)!\n",
      "[\u001b[1mtardis.simulation.base\u001b[0m][\u001b[1;37mINFO\u001b[0m   ]  Luminosity emitted = 8.26944e+42 erg / s Luminosity absorbed = 2.36367e+42 erg / s Luminosity requested = 1.05928e+43 erg / s (\u001b[1mbase.py\u001b[0m:438)\n",
      "[\u001b[1mtardis.simulation.base\u001b[0m][\u001b[1;37mINFO\u001b[0m   ]  Simulation finished in 1 iterations and took 0.28 s (\u001b[1mbase.py\u001b[0m:381)\n",
      " \n",
      "*** Profile stats marshalled to file '/tmp/tmpwt8abux3'. \n",
      "Embedding SnakeViz in this document...\n"
     ]
    },
    {
     "data": {
      "text/html": [
       "\n",
       "<iframe id='snakeviz-28dc5cbe-c799-11eb-b8f9-080027abba97' frameborder=0 seamless width='100%' height='1000'></iframe>\n",
       "<script>document.getElementById(\"snakeviz-28dc5cbe-c799-11eb-b8f9-080027abba97\").setAttribute(\"src\", \"http://\" + document.location.hostname + \":8081/snakeviz/%2Ftmp%2Ftmpwt8abux3\")</script>\n"
      ],
      "text/plain": [
       "<IPython.core.display.HTML object>"
      ]
     },
     "metadata": {},
     "output_type": "display_data"
    }
   ],
   "source": [
    "%%snakeviz\n",
    "\n",
    "sim.run()"
   ]
  },
  {
   "cell_type": "code",
   "execution_count": 6,
   "id": "f35b20af",
   "metadata": {
    "scrolled": true
   },
   "outputs": [],
   "source": [
    "#cProfile.run('sim.run()', 'run_data_small_test_optimization_disabled_relativity.txt')"
   ]
  },
  {
   "cell_type": "code",
   "execution_count": 7,
   "id": "aec3fe4e",
   "metadata": {},
   "outputs": [],
   "source": [
    "#import pstats\n",
    "#from pstats import SortKey\n",
    "#p = pstats.Stats('run_data_small_test_optimization_disabled_relativity.txt')"
   ]
  },
  {
   "cell_type": "code",
   "execution_count": 8,
   "id": "a7750775",
   "metadata": {
    "scrolled": true
   },
   "outputs": [],
   "source": [
    "#p.sort_stats(SortKey.CALLS).print_stats('calculate_distances.py')"
   ]
  },
  {
   "cell_type": "code",
   "execution_count": 9,
   "id": "c68ff4e2",
   "metadata": {
    "scrolled": true
   },
   "outputs": [],
   "source": [
    "#p.sort_stats(SortKey.CALLS).print_stats('/home/kevin/tardis/', 100)"
   ]
  },
  {
   "cell_type": "code",
   "execution_count": 10,
   "id": "c24c090a",
   "metadata": {},
   "outputs": [],
   "source": [
    "#p.sort_stats(SortKey.TIME).print_stats('/home/kevin/tardis/', 100)#"
   ]
  },
  {
   "cell_type": "code",
   "execution_count": 11,
   "id": "0352b461",
   "metadata": {
    "scrolled": true
   },
   "outputs": [],
   "source": [
    "#p.sort_stats(SortKey.CALLS).print_stats('montecarlo_numba/*', 100)"
   ]
  },
  {
   "cell_type": "code",
   "execution_count": 12,
   "id": "35522652",
   "metadata": {
    "scrolled": true
   },
   "outputs": [],
   "source": [
    "#p.sort_stats(SortKey.TIME).print_stats('montecarlo_numba/base.py')"
   ]
  },
  {
   "cell_type": "code",
   "execution_count": 13,
   "id": "c1d1627f",
   "metadata": {},
   "outputs": [],
   "source": [
    "#p.sort_stats(SortKey.TIME).print_stats('single_packet_loop.py')"
   ]
  },
  {
   "cell_type": "code",
   "execution_count": 14,
   "id": "a76ebc43",
   "metadata": {},
   "outputs": [],
   "source": [
    "#p.sort_stats(SortKey.CALLS).print_stats('r_packet.py')"
   ]
  },
  {
   "cell_type": "code",
   "execution_count": null,
   "id": "0d859c1c",
   "metadata": {},
   "outputs": [],
   "source": []
  },
  {
   "cell_type": "code",
   "execution_count": 15,
   "id": "edb9827e",
   "metadata": {},
   "outputs": [],
   "source": [
    "#1-50000000*10"
   ]
  },
  {
   "cell_type": "code",
   "execution_count": null,
   "id": "03fc9ff3",
   "metadata": {},
   "outputs": [],
   "source": []
  }
 ],
 "metadata": {
  "kernelspec": {
   "display_name": "Python 3",
   "language": "python",
   "name": "python3"
  },
  "language_info": {
   "codemirror_mode": {
    "name": "ipython",
    "version": 3
   },
   "file_extension": ".py",
   "mimetype": "text/x-python",
   "name": "python",
   "nbconvert_exporter": "python",
   "pygments_lexer": "ipython3",
   "version": "3.7.10"
  }
 },
 "nbformat": 4,
 "nbformat_minor": 5
}
