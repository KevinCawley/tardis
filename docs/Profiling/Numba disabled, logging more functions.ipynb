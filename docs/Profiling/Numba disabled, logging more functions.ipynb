{
 "cells": [
  {
   "cell_type": "code",
   "execution_count": 1,
   "id": "4a658a31",
   "metadata": {},
   "outputs": [],
   "source": [
    "#import cProfile\n",
    "#%load_ext snakeviz"
   ]
  },
  {
   "cell_type": "code",
   "execution_count": 1,
   "id": "378ec716",
   "metadata": {},
   "outputs": [],
   "source": [
    "#import os\n",
    "#os.environ['NUMBA_DISABLE_JIT'] = '1'"
   ]
  },
  {
   "cell_type": "code",
   "execution_count": 2,
   "id": "96c6c485",
   "metadata": {
    "scrolled": true
   },
   "outputs": [
    {
     "name": "stdout",
     "output_type": "stream",
     "text": [
      "[\u001b[1mtardis.io.atom_data.atom_web_download\u001b[0m][\u001b[1;37mINFO\u001b[0m   ]  Downloading atomic data from https://media.githubusercontent.com/media/tardis-sn/tardis-refdata/master/atom_data/kurucz_cd23_chianti_H_He.h5 to /home/kevin/Downloads/tardis-data/kurucz_cd23_chianti_H_He.h5 (\u001b[1matom_web_download.py\u001b[0m:46)\n"
     ]
    }
   ],
   "source": [
    "from tardis.io.config_reader import Configuration\n",
    "from tardis.io.atom_data.base import AtomData\n",
    "from tardis.simulation import Simulation\n",
    "from tardis import run_tardis\n",
    "from tardis.io.atom_data.util import download_atom_data\n",
    "download_atom_data('kurucz_cd23_chianti_H_He')"
   ]
  },
  {
   "cell_type": "code",
   "execution_count": 3,
   "id": "348ea187",
   "metadata": {
    "scrolled": true
   },
   "outputs": [
    {
     "name": "stdout",
     "output_type": "stream",
     "text": [
      "[\u001b[1mtardis.plasma.standard_plasmas\u001b[0m][\u001b[1;37mINFO\u001b[0m   ]  Reading Atomic Data from kurucz_cd23_chianti_H_He.h5 (\u001b[1mstandard_plasmas.py\u001b[0m:91)\n",
      "[\u001b[1mtardis.io.atom_data.util\u001b[0m][\u001b[1;37mINFO\u001b[0m   ]  Atom Data kurucz_cd23_chianti_H_He.h5 not found in local path. Exists in TARDIS Data repo /home/kevin/Downloads/tardis-data/kurucz_cd23_chianti_H_He.h5 (\u001b[1mutil.py\u001b[0m:34)\n",
      "[\u001b[1mtardis.io.atom_data.base\u001b[0m][\u001b[1;37mINFO\u001b[0m   ]  Read Atom Data with UUID=6f7b09e887a311e7a06b246e96350010 and MD5=864f1753714343c41f99cb065710cace. (\u001b[1mbase.py\u001b[0m:179)\n",
      "[\u001b[1mtardis.io.atom_data.base\u001b[0m][\u001b[1;37mINFO\u001b[0m   ]  Non provided atomic data: synpp_refs, photoionization_data, yg_data, two_photon_data (\u001b[1mbase.py\u001b[0m:183)\n"
     ]
    }
   ],
   "source": [
    "tardis_config = Configuration.from_yaml('tardis_example.yml')\n",
    "tardis_config['montecarlo']['no_of_packets'] = 100\n",
    "tardis_config['montecarlo']['no_of_virtual_packets'] = 0\n",
    "\n",
    "tardis_config['montecarlo']['debug_packets'] = True\n",
    "tardis_config['montecarlo']['logger_buffer'] = 1\n",
    "tardis_config['montecarlo']['singe_packet_seed'] = 46\n",
    "sim = Simulation.from_config(tardis_config)"
   ]
  },
  {
   "cell_type": "code",
   "execution_count": 4,
   "id": "8fed5c2c",
   "metadata": {
    "scrolled": true
   },
   "outputs": [
    {
     "name": "stdout",
     "output_type": "stream",
     "text": [
      "[\u001b[1mtardis.simulation.base\u001b[0m][\u001b[1;37mINFO\u001b[0m   ]  Starting iteration 1/20 (\u001b[1mbase.py\u001b[0m:323)\n",
      "[\u001b[1mpy.warnings         \u001b[0m][\u001b[1;33mWARNING\u001b[0m]  /home/kevin/miniconda3/envs/tardis/lib/python3.7/site-packages/astropy/units/equivalencies.py:124: RuntimeWarning: divide by zero encountered in double_scalars\n",
      "  (si.m, si.Hz, lambda x: _si.c.value / x),\n",
      " (\u001b[1mwarnings.py\u001b[0m:110)\n",
      "Running post-merge numba montecarlo (with C close lines)!\n",
      "[\u001b[1mtardis.simulation.base\u001b[0m][\u001b[1;37mINFO\u001b[0m   ]  Luminosity emitted = 8.26944e+42 erg / s Luminosity absorbed = 2.36367e+42 erg / s Luminosity requested = 1.05928e+43 erg / s (\u001b[1mbase.py\u001b[0m:438)\n",
      "[\u001b[1mtardis.simulation.base\u001b[0m][\u001b[1;37mINFO\u001b[0m   ]  Plasma stratification:\n",
      "\t             t_rad    next_t_rad         w    next_w\n",
      "\tShell                                               \n",
      "\t0      9926.501965  10829.992198  0.400392  0.327926\n",
      "\t5      9852.611678  10031.372814  0.211205  0.210076\n",
      "\t10     9779.813302  10115.888955  0.142695  0.110244\n",
      "\t15     9708.082813  10240.623014  0.104556  0.075647\n",
      "\n",
      " (\u001b[1mbase.py\u001b[0m:433)\n",
      "[\u001b[1mtardis.simulation.base\u001b[0m][\u001b[1;37mINFO\u001b[0m   ]  t_inner 9933.952 K -- next t_inner 11243.169 K (\u001b[1mbase.py\u001b[0m:434)\n",
      "[\u001b[1mtardis.simulation.base\u001b[0m][\u001b[1;37mINFO\u001b[0m   ]  Starting iteration 2/20 (\u001b[1mbase.py\u001b[0m:323)\n",
      "[\u001b[1mpy.warnings         \u001b[0m][\u001b[1;33mWARNING\u001b[0m]  /home/kevin/miniconda3/envs/tardis/lib/python3.7/site-packages/astropy/units/equivalencies.py:124: RuntimeWarning: divide by zero encountered in double_scalars\n",
      "  (si.m, si.Hz, lambda x: _si.c.value / x),\n",
      " (\u001b[1mwarnings.py\u001b[0m:110)\n",
      "Running post-merge numba montecarlo (with C close lines)!\n",
      "[\u001b[1mtardis.simulation.base\u001b[0m][\u001b[1;37mINFO\u001b[0m   ]  Luminosity emitted = 1.34906e+43 erg / s Luminosity absorbed = 3.85812e+42 erg / s Luminosity requested = 1.05928e+43 erg / s (\u001b[1mbase.py\u001b[0m:438)\n",
      "[\u001b[1mtardis.simulation.base\u001b[0m][\u001b[1;37mINFO\u001b[0m   ]  Plasma stratification:\n",
      "\t              t_rad    next_t_rad         w    next_w\n",
      "\tShell                                                \n",
      "\t0      10829.992198  10848.419154  0.327926  0.662377\n",
      "\t5      10031.372814  11730.113887  0.210076  0.199120\n",
      "\t10     10115.888955  13878.026535  0.110244  0.072488\n",
      "\t15     10240.623014  12064.814187  0.075647  0.075547\n",
      "\n",
      " (\u001b[1mbase.py\u001b[0m:433)\n",
      "[\u001b[1mtardis.simulation.base\u001b[0m][\u001b[1;37mINFO\u001b[0m   ]  t_inner 11243.169 K -- next t_inner 9962.715 K (\u001b[1mbase.py\u001b[0m:434)\n",
      "[\u001b[1mtardis.simulation.base\u001b[0m][\u001b[1;37mINFO\u001b[0m   ]  Starting iteration 3/20 (\u001b[1mbase.py\u001b[0m:323)\n",
      "[\u001b[1mpy.warnings         \u001b[0m][\u001b[1;33mWARNING\u001b[0m]  /home/kevin/miniconda3/envs/tardis/lib/python3.7/site-packages/astropy/units/equivalencies.py:124: RuntimeWarning: divide by zero encountered in double_scalars\n",
      "  (si.m, si.Hz, lambda x: _si.c.value / x),\n",
      " (\u001b[1mwarnings.py\u001b[0m:110)\n",
      "Running post-merge numba montecarlo (with C close lines)!\n",
      "[\u001b[1mtardis.simulation.base\u001b[0m][\u001b[1;37mINFO\u001b[0m   ]  Luminosity emitted = 8.56904e+42 erg / s Luminosity absorbed = 2.16538e+42 erg / s Luminosity requested = 1.05928e+43 erg / s (\u001b[1mbase.py\u001b[0m:438)\n",
      "[\u001b[1mtardis.simulation.base\u001b[0m][\u001b[1;37mINFO\u001b[0m   ]  Plasma stratification:\n",
      "\t              t_rad    next_t_rad         w    next_w\n",
      "\tShell                                                \n",
      "\t0      10848.419154   9805.237535  0.662377  0.586554\n",
      "\t5      11730.113887  10057.011543  0.199120  0.238579\n",
      "\t10     13878.026535   9737.498985  0.072488  0.153023\n",
      "\t15     12064.814187   9613.923879  0.075547  0.100883\n",
      "\n",
      " (\u001b[1mbase.py\u001b[0m:433)\n",
      "[\u001b[1mtardis.simulation.base\u001b[0m][\u001b[1;37mINFO\u001b[0m   ]  t_inner 9962.715 K -- next t_inner 11076.852 K (\u001b[1mbase.py\u001b[0m:434)\n",
      "[\u001b[1mtardis.simulation.base\u001b[0m][\u001b[1;37mINFO\u001b[0m   ]  Starting iteration 4/20 (\u001b[1mbase.py\u001b[0m:323)\n",
      "[\u001b[1mpy.warnings         \u001b[0m][\u001b[1;33mWARNING\u001b[0m]  /home/kevin/miniconda3/envs/tardis/lib/python3.7/site-packages/astropy/units/equivalencies.py:124: RuntimeWarning: divide by zero encountered in double_scalars\n",
      "  (si.m, si.Hz, lambda x: _si.c.value / x),\n",
      " (\u001b[1mwarnings.py\u001b[0m:110)\n",
      "Running post-merge numba montecarlo (with C close lines)!\n",
      "[\u001b[1mtardis.simulation.base\u001b[0m][\u001b[1;37mINFO\u001b[0m   ]  Luminosity emitted = 1.20841e+43 erg / s Luminosity absorbed = 4.25798e+42 erg / s Luminosity requested = 1.05928e+43 erg / s (\u001b[1mbase.py\u001b[0m:438)\n",
      "[\u001b[1mtardis.simulation.base\u001b[0m][\u001b[1;37mINFO\u001b[0m   ]  Plasma stratification:\n",
      "\t              t_rad    next_t_rad         w    next_w\n",
      "\tShell                                                \n",
      "\t0       9805.237535   9847.426419  0.586554  0.926594\n",
      "\t5      10057.011543  11264.226025  0.238579  0.231537\n",
      "\t10      9737.498985  10105.220375  0.153023  0.215650\n",
      "\t15      9613.923879  11022.556611  0.100883  0.083753\n",
      "\n",
      " (\u001b[1mbase.py\u001b[0m:433)\n",
      "[\u001b[1mtardis.simulation.base\u001b[0m][\u001b[1;37mINFO\u001b[0m   ]  t_inner 11076.852 K -- next t_inner 10370.845 K (\u001b[1mbase.py\u001b[0m:434)\n",
      "[\u001b[1mtardis.simulation.base\u001b[0m][\u001b[1;37mINFO\u001b[0m   ]  Starting iteration 5/20 (\u001b[1mbase.py\u001b[0m:323)\n",
      "[\u001b[1mpy.warnings         \u001b[0m][\u001b[1;33mWARNING\u001b[0m]  /home/kevin/miniconda3/envs/tardis/lib/python3.7/site-packages/astropy/units/equivalencies.py:124: RuntimeWarning: divide by zero encountered in double_scalars\n",
      "  (si.m, si.Hz, lambda x: _si.c.value / x),\n",
      " (\u001b[1mwarnings.py\u001b[0m:110)\n",
      "Running post-merge numba montecarlo (with C close lines)!\n",
      "[\u001b[1mtardis.simulation.base\u001b[0m][\u001b[1;37mINFO\u001b[0m   ]  Luminosity emitted = 9.06749e+42 erg / s Luminosity absorbed = 3.52267e+42 erg / s Luminosity requested = 1.05928e+43 erg / s (\u001b[1mbase.py\u001b[0m:438)\n",
      "[\u001b[1mtardis.simulation.base\u001b[0m][\u001b[1;37mINFO\u001b[0m   ]  Plasma stratification:\n",
      "\t              t_rad    next_t_rad         w    next_w\n",
      "\tShell                                                \n",
      "\t0       9847.426419  10915.721043  0.926594  0.497163\n",
      "\t5      11264.226025  10529.387879  0.231537  0.170040\n",
      "\t10     10105.220375  10712.522858  0.215650  0.106490\n",
      "\t15     11022.556611  11018.052718  0.083753  0.064190\n",
      "\n",
      " (\u001b[1mbase.py\u001b[0m:433)\n",
      "[\u001b[1mtardis.simulation.base\u001b[0m][\u001b[1;37mINFO\u001b[0m   ]  t_inner 10370.845 K -- next t_inner 11209.214 K (\u001b[1mbase.py\u001b[0m:434)\n",
      "[\u001b[1mtardis.simulation.base\u001b[0m][\u001b[1;37mINFO\u001b[0m   ]  Starting iteration 6/20 (\u001b[1mbase.py\u001b[0m:323)\n",
      "[\u001b[1mpy.warnings         \u001b[0m][\u001b[1;33mWARNING\u001b[0m]  /home/kevin/miniconda3/envs/tardis/lib/python3.7/site-packages/astropy/units/equivalencies.py:124: RuntimeWarning: divide by zero encountered in double_scalars\n",
      "  (si.m, si.Hz, lambda x: _si.c.value / x),\n",
      " (\u001b[1mwarnings.py\u001b[0m:110)\n",
      "Running post-merge numba montecarlo (with C close lines)!\n",
      "[\u001b[1mtardis.simulation.base\u001b[0m][\u001b[1;37mINFO\u001b[0m   ]  Luminosity emitted = 1.21680e+43 erg / s Luminosity absorbed = 4.96145e+42 erg / s Luminosity requested = 1.05928e+43 erg / s (\u001b[1mbase.py\u001b[0m:438)\n",
      "[\u001b[1mtardis.simulation.base\u001b[0m][\u001b[1;37mINFO\u001b[0m   ]  Plasma stratification:\n",
      "\t              t_rad    next_t_rad         w    next_w\n",
      "\tShell                                                \n",
      "\t0      10915.721043  11883.073043  0.497163  0.412796\n",
      "\t5      10529.387879  12873.265676  0.170040  0.131764\n",
      "\t10     10712.522858  10290.718054  0.106490  0.180074\n",
      "\t15     11018.052718  10593.219677  0.064190  0.099385\n",
      "\n",
      " (\u001b[1mbase.py\u001b[0m:433)\n",
      "[\u001b[1mtardis.simulation.base\u001b[0m][\u001b[1;37mINFO\u001b[0m   ]  t_inner 11209.214 K -- next t_inner 10458.537 K (\u001b[1mbase.py\u001b[0m:434)\n",
      "[\u001b[1mtardis.simulation.base\u001b[0m][\u001b[1;37mINFO\u001b[0m   ]  Starting iteration 7/20 (\u001b[1mbase.py\u001b[0m:323)\n",
      "[\u001b[1mpy.warnings         \u001b[0m][\u001b[1;33mWARNING\u001b[0m]  /home/kevin/miniconda3/envs/tardis/lib/python3.7/site-packages/astropy/units/equivalencies.py:124: RuntimeWarning: divide by zero encountered in double_scalars\n",
      "  (si.m, si.Hz, lambda x: _si.c.value / x),\n",
      " (\u001b[1mwarnings.py\u001b[0m:110)\n",
      "Running post-merge numba montecarlo (with C close lines)!\n",
      "[\u001b[1mtardis.simulation.base\u001b[0m][\u001b[1;37mINFO\u001b[0m   ]  Luminosity emitted = 9.62660e+42 erg / s Luminosity absorbed = 3.36055e+42 erg / s Luminosity requested = 1.05928e+43 erg / s (\u001b[1mbase.py\u001b[0m:438)\n",
      "[\u001b[1mtardis.simulation.base\u001b[0m][\u001b[1;37mINFO\u001b[0m   ]  Plasma stratification:\n",
      "\t              t_rad    next_t_rad         w    next_w\n",
      "\tShell                                                \n",
      "\t0      11883.073043  10857.649940  0.412796  0.489214\n",
      "\t5      12873.265676  11822.824811  0.131764  0.159796\n",
      "\t10     10290.718054  10571.787855  0.180074  0.118890\n",
      "\t15     10593.219677   9865.375759  0.099385  0.103769\n",
      "\n",
      " (\u001b[1mbase.py\u001b[0m:433)\n"
     ]
    },
    {
     "name": "stdout",
     "output_type": "stream",
     "text": [
      "[\u001b[1mtardis.simulation.base\u001b[0m][\u001b[1;37mINFO\u001b[0m   ]  t_inner 10458.537 K -- next t_inner 10970.818 K (\u001b[1mbase.py\u001b[0m:434)\n",
      "[\u001b[1mtardis.simulation.base\u001b[0m][\u001b[1;37mINFO\u001b[0m   ]  Starting iteration 8/20 (\u001b[1mbase.py\u001b[0m:323)\n",
      "[\u001b[1mpy.warnings         \u001b[0m][\u001b[1;33mWARNING\u001b[0m]  /home/kevin/miniconda3/envs/tardis/lib/python3.7/site-packages/astropy/units/equivalencies.py:124: RuntimeWarning: divide by zero encountered in double_scalars\n",
      "  (si.m, si.Hz, lambda x: _si.c.value / x),\n",
      " (\u001b[1mwarnings.py\u001b[0m:110)\n",
      "Running post-merge numba montecarlo (with C close lines)!\n",
      "[\u001b[1mtardis.simulation.base\u001b[0m][\u001b[1;37mINFO\u001b[0m   ]  Luminosity emitted = 1.17796e+43 erg / s Luminosity absorbed = 3.93077e+42 erg / s Luminosity requested = 1.05928e+43 erg / s (\u001b[1mbase.py\u001b[0m:438)\n",
      "[\u001b[1mtardis.simulation.base\u001b[0m][\u001b[1;37mINFO\u001b[0m   ]  Plasma stratification:\n",
      "\t              t_rad    next_t_rad         w    next_w\n",
      "\tShell                                                \n",
      "\t0      10857.649940  10570.690649  0.489214  0.667834\n",
      "\t5      11822.824811  13016.021913  0.159796  0.126961\n",
      "\t10     10571.787855  11585.777981  0.118890  0.105230\n",
      "\t15      9865.375759  12063.618248  0.103769  0.059820\n",
      "\n",
      " (\u001b[1mbase.py\u001b[0m:433)\n",
      "[\u001b[1mtardis.simulation.base\u001b[0m][\u001b[1;37mINFO\u001b[0m   ]  t_inner 10970.818 K -- next t_inner 10403.455 K (\u001b[1mbase.py\u001b[0m:434)\n",
      "[\u001b[1mtardis.simulation.base\u001b[0m][\u001b[1;37mINFO\u001b[0m   ]  Starting iteration 9/20 (\u001b[1mbase.py\u001b[0m:323)\n",
      "[\u001b[1mpy.warnings         \u001b[0m][\u001b[1;33mWARNING\u001b[0m]  /home/kevin/miniconda3/envs/tardis/lib/python3.7/site-packages/astropy/units/equivalencies.py:124: RuntimeWarning: divide by zero encountered in double_scalars\n",
      "  (si.m, si.Hz, lambda x: _si.c.value / x),\n",
      " (\u001b[1mwarnings.py\u001b[0m:110)\n",
      "Running post-merge numba montecarlo (with C close lines)!\n",
      "[\u001b[1mtardis.simulation.base\u001b[0m][\u001b[1;37mINFO\u001b[0m   ]  Luminosity emitted = 8.64016e+42 erg / s Luminosity absorbed = 4.04134e+42 erg / s Luminosity requested = 1.05928e+43 erg / s (\u001b[1mbase.py\u001b[0m:438)\n",
      "[\u001b[1mtardis.simulation.base\u001b[0m][\u001b[1;37mINFO\u001b[0m   ]  Plasma stratification:\n",
      "\t              t_rad    next_t_rad         w    next_w\n",
      "\tShell                                                \n",
      "\t0      10570.690649  10792.143537  0.667834  0.518704\n",
      "\t5      13016.021913   9621.073219  0.126961  0.292277\n",
      "\t10     11585.777981  10771.364942  0.105230  0.107773\n",
      "\t15     12063.618248  10765.236555  0.059820  0.074765\n",
      "\n",
      " (\u001b[1mbase.py\u001b[0m:433)\n",
      "[\u001b[1mtardis.simulation.base\u001b[0m][\u001b[1;37mINFO\u001b[0m   ]  t_inner 10403.455 K -- next t_inner 11519.173 K (\u001b[1mbase.py\u001b[0m:434)\n",
      "[\u001b[1mtardis.simulation.base\u001b[0m][\u001b[1;37mINFO\u001b[0m   ]  Starting iteration 10/20 (\u001b[1mbase.py\u001b[0m:323)\n",
      "[\u001b[1mpy.warnings         \u001b[0m][\u001b[1;33mWARNING\u001b[0m]  /home/kevin/miniconda3/envs/tardis/lib/python3.7/site-packages/astropy/units/equivalencies.py:124: RuntimeWarning: divide by zero encountered in double_scalars\n",
      "  (si.m, si.Hz, lambda x: _si.c.value / x),\n",
      " (\u001b[1mwarnings.py\u001b[0m:110)\n",
      "Running post-merge numba montecarlo (with C close lines)!\n",
      "[\u001b[1mtardis.simulation.base\u001b[0m][\u001b[1;37mINFO\u001b[0m   ]  Luminosity emitted = 1.42127e+43 erg / s Luminosity absorbed = 4.98352e+42 erg / s Luminosity requested = 1.05928e+43 erg / s (\u001b[1mbase.py\u001b[0m:438)\n",
      "[\u001b[1mtardis.simulation.base\u001b[0m][\u001b[1;37mINFO\u001b[0m   ]  Plasma stratification:\n",
      "\t              t_rad    next_t_rad         w    next_w\n",
      "\tShell                                                \n",
      "\t0      10792.143537  11670.426567  0.518704  0.549664\n",
      "\t5       9621.073219  10409.788748  0.292277  0.295612\n",
      "\t10     10771.364942  10049.641070  0.107773  0.196288\n",
      "\t15     10765.236555  10453.080335  0.074765  0.119577\n",
      "\n",
      " (\u001b[1mbase.py\u001b[0m:433)\n",
      "[\u001b[1mtardis.simulation.base\u001b[0m][\u001b[1;37mINFO\u001b[0m   ]  t_inner 11519.173 K -- next t_inner 9944.611 K (\u001b[1mbase.py\u001b[0m:434)\n",
      "[\u001b[1mtardis.simulation.base\u001b[0m][\u001b[1;37mINFO\u001b[0m   ]  Starting iteration 11/20 (\u001b[1mbase.py\u001b[0m:323)\n",
      "[\u001b[1mpy.warnings         \u001b[0m][\u001b[1;33mWARNING\u001b[0m]  /home/kevin/miniconda3/envs/tardis/lib/python3.7/site-packages/astropy/units/equivalencies.py:124: RuntimeWarning: divide by zero encountered in double_scalars\n",
      "  (si.m, si.Hz, lambda x: _si.c.value / x),\n",
      " (\u001b[1mwarnings.py\u001b[0m:110)\n",
      "Running post-merge numba montecarlo (with C close lines)!\n",
      "[\u001b[1mtardis.simulation.base\u001b[0m][\u001b[1;37mINFO\u001b[0m   ]  Luminosity emitted = 8.09574e+42 erg / s Luminosity absorbed = 2.54736e+42 erg / s Luminosity requested = 1.05928e+43 erg / s (\u001b[1mbase.py\u001b[0m:438)\n",
      "[\u001b[1mtardis.simulation.base\u001b[0m][\u001b[1;37mINFO\u001b[0m   ]  Plasma stratification:\n",
      "\t              t_rad    next_t_rad         w    next_w\n",
      "\tShell                                                \n",
      "\t0      11670.426567  10096.839811  0.549664  0.535033\n",
      "\t5      10409.788748   9955.496762  0.295612  0.226458\n",
      "\t10     10049.641070  10157.890486  0.196288  0.107559\n",
      "\t15     10453.080335   9791.651287  0.119577  0.090020\n",
      "\n",
      " (\u001b[1mbase.py\u001b[0m:433)\n",
      "[\u001b[1mtardis.simulation.base\u001b[0m][\u001b[1;37mINFO\u001b[0m   ]  t_inner 9944.611 K -- next t_inner 11375.334 K (\u001b[1mbase.py\u001b[0m:434)\n",
      "[\u001b[1mtardis.simulation.base\u001b[0m][\u001b[1;37mINFO\u001b[0m   ]  Starting iteration 12/20 (\u001b[1mbase.py\u001b[0m:323)\n",
      "[\u001b[1mpy.warnings         \u001b[0m][\u001b[1;33mWARNING\u001b[0m]  /home/kevin/miniconda3/envs/tardis/lib/python3.7/site-packages/astropy/units/equivalencies.py:124: RuntimeWarning: divide by zero encountered in double_scalars\n",
      "  (si.m, si.Hz, lambda x: _si.c.value / x),\n",
      " (\u001b[1mwarnings.py\u001b[0m:110)\n",
      "Running post-merge numba montecarlo (with C close lines)!\n",
      "[\u001b[1mtardis.simulation.base\u001b[0m][\u001b[1;37mINFO\u001b[0m   ]  Luminosity emitted = 1.25078e+43 erg / s Luminosity absorbed = 5.61984e+42 erg / s Luminosity requested = 1.05928e+43 erg / s (\u001b[1mbase.py\u001b[0m:438)\n",
      "[\u001b[1mtardis.simulation.base\u001b[0m][\u001b[1;37mINFO\u001b[0m   ]  Plasma stratification:\n",
      "\t              t_rad    next_t_rad         w    next_w\n",
      "\tShell                                                \n",
      "\t0      10096.839811  12011.626749  0.535033  0.498488\n",
      "\t5       9955.496762  10061.509905  0.226458  0.353522\n",
      "\t10     10157.890486  10839.662529  0.107559  0.140201\n",
      "\t15      9791.651287  10475.232691  0.090020  0.113590\n",
      "\n",
      " (\u001b[1mbase.py\u001b[0m:433)\n",
      "[\u001b[1mtardis.simulation.base\u001b[0m][\u001b[1;37mINFO\u001b[0m   ]  t_inner 11375.334 K -- next t_inner 10468.351 K (\u001b[1mbase.py\u001b[0m:434)\n",
      "[\u001b[1mtardis.simulation.base\u001b[0m][\u001b[1;37mINFO\u001b[0m   ]  Starting iteration 13/20 (\u001b[1mbase.py\u001b[0m:323)\n",
      "[\u001b[1mpy.warnings         \u001b[0m][\u001b[1;33mWARNING\u001b[0m]  /home/kevin/miniconda3/envs/tardis/lib/python3.7/site-packages/astropy/units/equivalencies.py:124: RuntimeWarning: divide by zero encountered in double_scalars\n",
      "  (si.m, si.Hz, lambda x: _si.c.value / x),\n",
      " (\u001b[1mwarnings.py\u001b[0m:110)\n",
      "Running post-merge numba montecarlo (with C close lines)!\n",
      "[\u001b[1mtardis.simulation.base\u001b[0m][\u001b[1;37mINFO\u001b[0m   ]  Luminosity emitted = 1.01736e+43 erg / s Luminosity absorbed = 2.88227e+42 erg / s Luminosity requested = 1.05928e+43 erg / s (\u001b[1mbase.py\u001b[0m:438)\n",
      "[\u001b[1mtardis.simulation.base\u001b[0m][\u001b[1;37mINFO\u001b[0m   ]  Plasma stratification:\n",
      "\t              t_rad    next_t_rad         w    next_w\n",
      "\tShell                                                \n",
      "\t0      12011.626749  11363.348711  0.498488  0.423546\n",
      "\t5      10061.509905  10527.774329  0.353522  0.227239\n",
      "\t10     10839.662529  11496.444742  0.140201  0.100635\n",
      "\t15     10475.232691  11214.187568  0.113590  0.082936\n",
      "\n",
      " (\u001b[1mbase.py\u001b[0m:433)\n",
      "[\u001b[1mtardis.simulation.base\u001b[0m][\u001b[1;37mINFO\u001b[0m   ]  t_inner 10468.351 K -- next t_inner 10681.831 K (\u001b[1mbase.py\u001b[0m:434)\n",
      "[\u001b[1mtardis.simulation.base\u001b[0m][\u001b[1;37mINFO\u001b[0m   ]  Starting iteration 14/20 (\u001b[1mbase.py\u001b[0m:323)\n",
      "[\u001b[1mpy.warnings         \u001b[0m][\u001b[1;33mWARNING\u001b[0m]  /home/kevin/miniconda3/envs/tardis/lib/python3.7/site-packages/astropy/units/equivalencies.py:124: RuntimeWarning: divide by zero encountered in double_scalars\n",
      "  (si.m, si.Hz, lambda x: _si.c.value / x),\n",
      " (\u001b[1mwarnings.py\u001b[0m:110)\n",
      "Running post-merge numba montecarlo (with C close lines)!\n",
      "[\u001b[1mtardis.simulation.base\u001b[0m][\u001b[1;37mINFO\u001b[0m   ]  Luminosity emitted = 1.21949e+43 erg / s Luminosity absorbed = 2.05199e+42 erg / s Luminosity requested = 1.05928e+43 erg / s (\u001b[1mbase.py\u001b[0m:438)\n",
      "[\u001b[1mtardis.simulation.base\u001b[0m][\u001b[1;37mINFO\u001b[0m   ]  Plasma stratification:\n",
      "\t              t_rad    next_t_rad         w    next_w\n",
      "\tShell                                                \n",
      "\t0      11363.348711  10552.701942  0.423546  0.557659\n",
      "\t5      10527.774329  10739.266165  0.227239  0.232902\n",
      "\t10     11496.444742  11204.908979  0.100635  0.121146\n",
      "\t15     11214.187568  11748.777588  0.082936  0.067068\n",
      "\n",
      " (\u001b[1mbase.py\u001b[0m:433)\n"
     ]
    },
    {
     "name": "stdout",
     "output_type": "stream",
     "text": [
      "[\u001b[1mtardis.simulation.base\u001b[0m][\u001b[1;37mINFO\u001b[0m   ]  t_inner 10681.831 K -- next t_inner 9955.443 K (\u001b[1mbase.py\u001b[0m:434)\n",
      "[\u001b[1mtardis.simulation.base\u001b[0m][\u001b[1;37mINFO\u001b[0m   ]  Starting iteration 15/20 (\u001b[1mbase.py\u001b[0m:323)\n",
      "[\u001b[1mpy.warnings         \u001b[0m][\u001b[1;33mWARNING\u001b[0m]  /home/kevin/miniconda3/envs/tardis/lib/python3.7/site-packages/astropy/units/equivalencies.py:124: RuntimeWarning: divide by zero encountered in double_scalars\n",
      "  (si.m, si.Hz, lambda x: _si.c.value / x),\n",
      " (\u001b[1mwarnings.py\u001b[0m:110)\n",
      "Running post-merge numba montecarlo (with C close lines)!\n",
      "[\u001b[1mtardis.simulation.base\u001b[0m][\u001b[1;37mINFO\u001b[0m   ]  Luminosity emitted = 8.54993e+42 erg / s Luminosity absorbed = 2.15234e+42 erg / s Luminosity requested = 1.05928e+43 erg / s (\u001b[1mbase.py\u001b[0m:438)\n",
      "[\u001b[1mtardis.simulation.base\u001b[0m][\u001b[1;37mINFO\u001b[0m   ]  Plasma stratification:\n",
      "\t              t_rad    next_t_rad         w    next_w\n",
      "\tShell                                                \n",
      "\t0      10552.701942  10339.666525  0.557659  0.479354\n",
      "\t5      10739.266165  11415.336603  0.232902  0.153068\n",
      "\t10     11204.908979   9565.802411  0.121146  0.152423\n",
      "\t15     11748.777588   9460.867888  0.067068  0.106389\n",
      "\n",
      " (\u001b[1mbase.py\u001b[0m:433)\n",
      "[\u001b[1mtardis.simulation.base\u001b[0m][\u001b[1;37mINFO\u001b[0m   ]  t_inner 9955.443 K -- next t_inner 11081.128 K (\u001b[1mbase.py\u001b[0m:434)\n",
      "[\u001b[1mtardis.simulation.base\u001b[0m][\u001b[1;37mINFO\u001b[0m   ]  Starting iteration 16/20 (\u001b[1mbase.py\u001b[0m:323)\n",
      "[\u001b[1mpy.warnings         \u001b[0m][\u001b[1;33mWARNING\u001b[0m]  /home/kevin/miniconda3/envs/tardis/lib/python3.7/site-packages/astropy/units/equivalencies.py:124: RuntimeWarning: divide by zero encountered in double_scalars\n",
      "  (si.m, si.Hz, lambda x: _si.c.value / x),\n",
      " (\u001b[1mwarnings.py\u001b[0m:110)\n",
      "Running post-merge numba montecarlo (with C close lines)!\n",
      "[\u001b[1mtardis.simulation.base\u001b[0m][\u001b[1;37mINFO\u001b[0m   ]  Luminosity emitted = 1.19859e+43 erg / s Luminosity absorbed = 4.42273e+42 erg / s Luminosity requested = 1.05928e+43 erg / s (\u001b[1mbase.py\u001b[0m:438)\n",
      "[\u001b[1mtardis.simulation.base\u001b[0m][\u001b[1;37mINFO\u001b[0m   ]  Plasma stratification:\n",
      "\t              t_rad    next_t_rad         w    next_w\n",
      "\tShell                                                \n",
      "\t0      10339.666525  11485.724162  0.479354  0.444822\n",
      "\t5      11415.336603  11002.645272  0.153068  0.227005\n",
      "\t10      9565.802411  10282.381475  0.152423  0.156750\n",
      "\t15      9460.867888  10521.595844  0.106389  0.095886\n",
      "\n",
      " (\u001b[1mbase.py\u001b[0m:433)\n",
      "[\u001b[1mtardis.simulation.base\u001b[0m][\u001b[1;37mINFO\u001b[0m   ]  t_inner 11081.128 K -- next t_inner 10417.235 K (\u001b[1mbase.py\u001b[0m:434)\n",
      "[\u001b[1mtardis.simulation.base\u001b[0m][\u001b[1;37mINFO\u001b[0m   ]  Starting iteration 17/20 (\u001b[1mbase.py\u001b[0m:323)\n",
      "[\u001b[1mpy.warnings         \u001b[0m][\u001b[1;33mWARNING\u001b[0m]  /home/kevin/miniconda3/envs/tardis/lib/python3.7/site-packages/astropy/units/equivalencies.py:124: RuntimeWarning: divide by zero encountered in double_scalars\n",
      "  (si.m, si.Hz, lambda x: _si.c.value / x),\n",
      " (\u001b[1mwarnings.py\u001b[0m:110)\n",
      "Running post-merge numba montecarlo (with C close lines)!\n",
      "[\u001b[1mtardis.simulation.base\u001b[0m][\u001b[1;37mINFO\u001b[0m   ]  Luminosity emitted = 1.02464e+43 erg / s Luminosity absorbed = 2.58722e+42 erg / s Luminosity requested = 1.05928e+43 erg / s (\u001b[1mbase.py\u001b[0m:438)\n",
      "[\u001b[1mtardis.simulation.base\u001b[0m][\u001b[1;37mINFO\u001b[0m   ]  Plasma stratification:\n",
      "\t              t_rad    next_t_rad         w    next_w\n",
      "\tShell                                                \n",
      "\t0      11485.724162  11283.576185  0.444822  0.387801\n",
      "\t5      11002.645272   9936.078611  0.227005  0.295452\n",
      "\t10     10282.381475  11001.413372  0.156750  0.110418\n",
      "\t15     10521.595844   9683.118387  0.095886  0.137415\n",
      "\n",
      " (\u001b[1mbase.py\u001b[0m:433)\n",
      "[\u001b[1mtardis.simulation.base\u001b[0m][\u001b[1;37mINFO\u001b[0m   ]  t_inner 10417.235 K -- next t_inner 10591.825 K (\u001b[1mbase.py\u001b[0m:434)\n",
      "[\u001b[1mtardis.simulation.base\u001b[0m][\u001b[1;37mINFO\u001b[0m   ]  Starting iteration 18/20 (\u001b[1mbase.py\u001b[0m:323)\n",
      "[\u001b[1mpy.warnings         \u001b[0m][\u001b[1;33mWARNING\u001b[0m]  /home/kevin/miniconda3/envs/tardis/lib/python3.7/site-packages/astropy/units/equivalencies.py:124: RuntimeWarning: divide by zero encountered in double_scalars\n",
      "  (si.m, si.Hz, lambda x: _si.c.value / x),\n",
      " (\u001b[1mwarnings.py\u001b[0m:110)\n",
      "Running post-merge numba montecarlo (with C close lines)!\n",
      "[\u001b[1mtardis.simulation.base\u001b[0m][\u001b[1;37mINFO\u001b[0m   ]  Luminosity emitted = 1.06690e+43 erg / s Luminosity absorbed = 3.02699e+42 erg / s Luminosity requested = 1.05928e+43 erg / s (\u001b[1mbase.py\u001b[0m:438)\n",
      "[\u001b[1mtardis.simulation.base\u001b[0m][\u001b[1;37mINFO\u001b[0m   ]  Plasma stratification:\n",
      "\t              t_rad    next_t_rad         w    next_w\n",
      "\tShell                                                \n",
      "\t0      11283.576185  11027.774051  0.387801  0.441118\n",
      "\t5       9936.078611  13464.604849  0.295452  0.086736\n",
      "\t10     11001.413372  11350.347835  0.110418  0.100063\n",
      "\t15      9683.118387  11334.446814  0.137415  0.070633\n",
      "\n",
      " (\u001b[1mbase.py\u001b[0m:433)\n",
      "[\u001b[1mtardis.simulation.base\u001b[0m][\u001b[1;37mINFO\u001b[0m   ]  t_inner 10591.825 K -- next t_inner 10553.893 K (\u001b[1mbase.py\u001b[0m:434)\n",
      "[\u001b[1mtardis.simulation.base\u001b[0m][\u001b[1;37mINFO\u001b[0m   ]  Starting iteration 19/20 (\u001b[1mbase.py\u001b[0m:323)\n",
      "[\u001b[1mpy.warnings         \u001b[0m][\u001b[1;33mWARNING\u001b[0m]  /home/kevin/miniconda3/envs/tardis/lib/python3.7/site-packages/astropy/units/equivalencies.py:124: RuntimeWarning: divide by zero encountered in double_scalars\n",
      "  (si.m, si.Hz, lambda x: _si.c.value / x),\n",
      " (\u001b[1mwarnings.py\u001b[0m:110)\n",
      "Running post-merge numba montecarlo (with C close lines)!\n",
      "[\u001b[1mtardis.simulation.base\u001b[0m][\u001b[1;37mINFO\u001b[0m   ]  Luminosity emitted = 9.81419e+42 erg / s Luminosity absorbed = 3.66683e+42 erg / s Luminosity requested = 1.05928e+43 erg / s (\u001b[1mbase.py\u001b[0m:438)\n",
      "[\u001b[1mtardis.simulation.base\u001b[0m][\u001b[1;37mINFO\u001b[0m   ]  Plasma stratification:\n",
      "\t              t_rad    next_t_rad         w    next_w\n",
      "\tShell                                                \n",
      "\t0      11027.774051  10706.322072  0.441118  0.513067\n",
      "\t5      13464.604849  10929.764109  0.086736  0.220734\n",
      "\t10     11350.347835  11166.175157  0.100063  0.088125\n",
      "\t15     11334.446814  10770.917369  0.070633  0.075307\n",
      "\n",
      " (\u001b[1mbase.py\u001b[0m:433)\n",
      "[\u001b[1mtardis.simulation.base\u001b[0m][\u001b[1;37mINFO\u001b[0m   ]  t_inner 10553.893 K -- next t_inner 10964.534 K (\u001b[1mbase.py\u001b[0m:434)\n",
      "[\u001b[1mtardis.simulation.base\u001b[0m][\u001b[1;37mINFO\u001b[0m   ]  Starting iteration 20/20 (\u001b[1mbase.py\u001b[0m:323)\n",
      "[\u001b[1mpy.warnings         \u001b[0m][\u001b[1;33mWARNING\u001b[0m]  /home/kevin/miniconda3/envs/tardis/lib/python3.7/site-packages/astropy/units/equivalencies.py:124: RuntimeWarning: divide by zero encountered in double_scalars\n",
      "  (si.m, si.Hz, lambda x: _si.c.value / x),\n",
      " (\u001b[1mwarnings.py\u001b[0m:110)\n",
      "Running post-merge numba montecarlo (with C close lines)!\n",
      "[\u001b[1mtardis.simulation.base\u001b[0m][\u001b[1;37mINFO\u001b[0m   ]  Luminosity emitted = 1.18140e+43 erg / s Luminosity absorbed = 3.90837e+42 erg / s Luminosity requested = 1.05928e+43 erg / s (\u001b[1mbase.py\u001b[0m:438)\n",
      "[\u001b[1mtardis.simulation.base\u001b[0m][\u001b[1;37mINFO\u001b[0m   ]  Simulation finished in 20 iterations and took 13.02 s (\u001b[1mbase.py\u001b[0m:381)\n"
     ]
    }
   ],
   "source": [
    "#%%snakeviz\n",
    "\n",
    "sim.run()"
   ]
  },
  {
   "cell_type": "code",
   "execution_count": 6,
   "id": "f35b20af",
   "metadata": {
    "scrolled": true
   },
   "outputs": [],
   "source": [
    "#cProfile.run('sim.run()', 'run_data_small_test_optimization_disabled_relativity.txt')"
   ]
  },
  {
   "cell_type": "code",
   "execution_count": 7,
   "id": "aec3fe4e",
   "metadata": {},
   "outputs": [],
   "source": [
    "#import pstats\n",
    "#from pstats import SortKey\n",
    "#p = pstats.Stats('run_data_small_test_optimization_disabled_relativity.txt')"
   ]
  },
  {
   "cell_type": "code",
   "execution_count": 8,
   "id": "a7750775",
   "metadata": {
    "scrolled": true
   },
   "outputs": [],
   "source": [
    "#p.sort_stats(SortKey.CALLS).print_stats('calculate_distances.py')"
   ]
  },
  {
   "cell_type": "code",
   "execution_count": 9,
   "id": "c68ff4e2",
   "metadata": {
    "scrolled": true
   },
   "outputs": [],
   "source": [
    "#p.sort_stats(SortKey.CALLS).print_stats('/home/kevin/tardis/', 100)"
   ]
  },
  {
   "cell_type": "code",
   "execution_count": 10,
   "id": "c24c090a",
   "metadata": {},
   "outputs": [],
   "source": [
    "#p.sort_stats(SortKey.TIME).print_stats('/home/kevin/tardis/', 100)#"
   ]
  },
  {
   "cell_type": "code",
   "execution_count": 11,
   "id": "0352b461",
   "metadata": {
    "scrolled": true
   },
   "outputs": [],
   "source": [
    "#p.sort_stats(SortKey.CALLS).print_stats('montecarlo_numba/*', 100)"
   ]
  },
  {
   "cell_type": "code",
   "execution_count": 12,
   "id": "35522652",
   "metadata": {
    "scrolled": true
   },
   "outputs": [],
   "source": [
    "#p.sort_stats(SortKey.TIME).print_stats('montecarlo_numba/base.py')"
   ]
  },
  {
   "cell_type": "code",
   "execution_count": 13,
   "id": "c1d1627f",
   "metadata": {},
   "outputs": [],
   "source": [
    "#p.sort_stats(SortKey.TIME).print_stats('single_packet_loop.py')"
   ]
  },
  {
   "cell_type": "code",
   "execution_count": 14,
   "id": "a76ebc43",
   "metadata": {},
   "outputs": [],
   "source": [
    "#p.sort_stats(SortKey.CALLS).print_stats('r_packet.py')"
   ]
  },
  {
   "cell_type": "code",
   "execution_count": null,
   "id": "0d859c1c",
   "metadata": {},
   "outputs": [],
   "source": []
  },
  {
   "cell_type": "code",
   "execution_count": 15,
   "id": "edb9827e",
   "metadata": {},
   "outputs": [],
   "source": [
    "#1-50000000*10"
   ]
  },
  {
   "cell_type": "code",
   "execution_count": null,
   "id": "03fc9ff3",
   "metadata": {},
   "outputs": [],
   "source": []
  }
 ],
 "metadata": {
  "kernelspec": {
   "display_name": "Python 3",
   "language": "python",
   "name": "python3"
  },
  "language_info": {
   "codemirror_mode": {
    "name": "ipython",
    "version": 3
   },
   "file_extension": ".py",
   "mimetype": "text/x-python",
   "name": "python",
   "nbconvert_exporter": "python",
   "pygments_lexer": "ipython3",
   "version": "3.7.10"
  }
 },
 "nbformat": 4,
 "nbformat_minor": 5
}
