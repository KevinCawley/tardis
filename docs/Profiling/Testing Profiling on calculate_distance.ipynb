{
 "cells": [
  {
   "cell_type": "code",
   "execution_count": 1,
   "id": "314077b0",
   "metadata": {},
   "outputs": [],
   "source": [
    "from tardis.montecarlo.montecarlo_numba.calculate_distances import (calculate_distance_boundary, \n",
    "calculate_distance_line, calculate_distance_line_full_relativity, calculate_distance_electron)\n",
    "from tardis.montecarlo.montecarlo_numba.r_packet import RPacket\n",
    "import cProfile\n",
    "import profile\n",
    "base_r = 5.0\n",
    "base_mu = 6.0\n",
    "base_r_inner = 10.0\n",
    "base_r_outer = 15.0\n",
    "base_nu = 5.0\n",
    "base_energy = 0.0005\n",
    "base_next_line_id = 2\n",
    "base_shell_line_id = 1\n",
    "base_status = 1\n",
    "base_seed = 1\n",
    "base_index = 1\n",
    "base_is_close_line = False\n",
    "base_r_packet = RPacket(base_r, base_mu, base_nu,base_energy, base_seed, base_index)\n",
    "base_comov_mu = 5.9\n",
    "base_is_last_line = False\n",
    "base_nu_line = 1.1\n",
    "base_time_explosion = 0.0"
   ]
  },
  {
   "cell_type": "markdown",
   "id": "c64aa933",
   "metadata": {},
   "source": [
    "https://docs.python.org/3/library/profile.html"
   ]
  },
  {
   "cell_type": "code",
   "execution_count": 2,
   "id": "91038b4c",
   "metadata": {},
   "outputs": [
    {
     "name": "stdout",
     "output_type": "stream",
     "text": [
      "cProfile of calculate_distance_boundary\n",
      "\n"
     ]
    }
   ],
   "source": [
    "print(\"cProfile of calculate_distance_boundary\\n\")\n",
    "r1 = base_r\n",
    "mu1 = base_mu\n",
    "r_inner1 = base_r_inner\n",
    "r_outer1 = base_r_outer\n",
    "cProfile.run('calculate_distance_boundary(r1,mu1,r_inner1,r_outer1)', 'stat_file.txt')"
   ]
  },
  {
   "cell_type": "code",
   "execution_count": 3,
   "id": "a4f57d1e",
   "metadata": {
    "scrolled": true
   },
   "outputs": [
    {
     "name": "stdout",
     "output_type": "stream",
     "text": [
      "Mon May 17 10:29:49 2021    stat_file.txt\n",
      "\n",
      "         284234 function calls (269616 primitive calls) in 0.170 seconds\n",
      "\n",
      "   Ordered by: cumulative time\n",
      "   List reduced from 1715 to 10 due to restriction <10>\n",
      "\n",
      "   ncalls  tottime  percall  cumtime  percall filename:lineno(function)\n",
      "        1    0.000    0.000    0.170    0.170 {built-in method builtins.exec}\n",
      "        1    0.000    0.000    0.170    0.170 <string>:1(<module>)\n",
      "        1    0.000    0.000    0.170    0.170 dispatcher.py:340(_compile_for_args)\n",
      "        1    0.000    0.000    0.170    0.170 dispatcher.py:864(compile)\n",
      "        1    0.000    0.000    0.170    0.170 dispatcher.py:78(compile)\n",
      "        1    0.000    0.000    0.170    0.170 dispatcher.py:85(_compile_cached)\n",
      "        1    0.000    0.000    0.170    0.170 dispatcher.py:100(_compile_core)\n",
      "        1    0.000    0.000    0.170    0.170 compiler.py:580(compile_extra)\n",
      "        1    0.000    0.000    0.170    0.170 compiler.py:347(compile_extra)\n",
      "        1    0.000    0.000    0.169    0.169 compiler.py:410(_compile_bytecode)\n",
      "\n",
      "\n",
      "Mon May 17 10:29:49 2021    stat_file.txt\n",
      "\n",
      "         284234 function calls (269616 primitive calls) in 0.170 seconds\n",
      "\n",
      "   Ordered by: call count\n",
      "   List reduced from 1715 to 10 due to restriction <10>\n",
      "\n",
      "   ncalls  tottime  percall  cumtime  percall filename:lineno(function)\n",
      "    63881    0.009    0.000    0.012    0.000 {built-in method builtins.isinstance}\n",
      "12011/1879    0.015    0.000    0.022    0.000 ir.py:313(_rec_list_vars)\n",
      "     9630    0.001    0.000    0.001    0.000 {method 'extend' of 'list' objects}\n",
      "6540/6538    0.000    0.000    0.000    0.000 {built-in method builtins.len}\n",
      "     6357    0.001    0.000    0.001    0.000 {built-in method _abc._abc_instancecheck}\n",
      "     6357    0.001    0.000    0.002    0.000 abc.py:96(__instancecheck__)\n",
      "     5474    0.000    0.000    0.000    0.000 {method 'append' of 'list' objects}\n",
      "4741/4709    0.001    0.000    0.001    0.000 {built-in method builtins.getattr}\n",
      "4227/2390    0.002    0.000    0.009    0.000 {method 'format' of 'str' objects}\n",
      "     3025    0.000    0.000    0.000    0.000 {method 'values' of 'dict' objects}\n",
      "\n",
      "\n",
      "Mon May 17 10:29:49 2021    stat_file.txt\n",
      "\n",
      "         284234 function calls (269616 primitive calls) in 0.170 seconds\n",
      "\n",
      "   Ordered by: internal time\n",
      "   List reduced from 1715 to 10 due to restriction <10>\n",
      "\n",
      "   ncalls  tottime  percall  cumtime  percall filename:lineno(function)\n",
      "12011/1879    0.015    0.000    0.022    0.000 ir.py:313(_rec_list_vars)\n",
      "      521    0.014    0.000    0.020    0.000 ffi.py:149(__call__)\n",
      "    63881    0.009    0.000    0.012    0.000 {built-in method builtins.isinstance}\n",
      "  658/568    0.007    0.000    0.007    0.000 {built-in method builtins.sorted}\n",
      "     2474    0.006    0.000    0.006    0.000 abstract.py:120(__eq__)\n",
      "      116    0.006    0.000    0.006    0.000 ir.py:862(__str__)\n",
      "     2304    0.005    0.000    0.008    0.000 numpy_support.py:336(ufunc_can_cast)\n",
      "       90    0.004    0.000    0.043    0.000 functions.py:283(get_call_type)\n",
      "      692    0.004    0.000    0.015    0.000 context.py:532(_rate_arguments)\n",
      " 1807/859    0.004    0.000    0.008    0.000 _utils.py:44(__str__)\n",
      "\n",
      "\n"
     ]
    },
    {
     "data": {
      "text/plain": [
       "<pstats.Stats at 0x7fc9b7e3a7f0>"
      ]
     },
     "execution_count": 3,
     "metadata": {},
     "output_type": "execute_result"
    }
   ],
   "source": [
    "import pstats\n",
    "from pstats import SortKey\n",
    "p = pstats.Stats('stat_file.txt')\n",
    "#p.strip_dirs().sort_stats(-1).print_stats()\n",
    "p.strip_dirs()\n",
    "\n",
    "p.sort_stats(SortKey.CUMULATIVE).print_stats(10)\n",
    "p.sort_stats(SortKey.CALLS).print_stats(10)\n",
    "p.sort_stats(SortKey.TIME).print_stats(10)"
   ]
  },
  {
   "cell_type": "code",
   "execution_count": 4,
   "id": "eb36cbcc",
   "metadata": {
    "scrolled": false
   },
   "outputs": [
    {
     "name": "stdout",
     "output_type": "stream",
     "text": [
      "profile of calculate_distance_boundary\n",
      "\n"
     ]
    }
   ],
   "source": [
    "print(\"profile of calculate_distance_boundary\\n\")\n",
    "r2 = base_r\n",
    "mu2 = base_mu\n",
    "r_inner2 = base_r_inner\n",
    "r_outer2 = base_r_outer\n",
    "#profile.run('calculate_distance_boundary(r2,mu2,r_inner2,r_outer2)')"
   ]
  },
  {
   "cell_type": "code",
   "execution_count": 5,
   "id": "91459a3a",
   "metadata": {
    "scrolled": false
   },
   "outputs": [
    {
     "name": "stdout",
     "output_type": "stream",
     "text": [
      "cProfile of calculate_distance_line\n",
      "\n"
     ]
    }
   ],
   "source": [
    "print(\"cProfile of calculate_distance_line\\n\")\n",
    "r_packet_1 = base_r_packet\n",
    "comov_mu1 = base_comov_mu\n",
    "is_last_line1 = base_is_last_line\n",
    "nu_line1 = base_nu_line\n",
    "time_explosion1 = base_time_explosion\n",
    "cProfile.run('calculate_distance_line(r_packet_1, comov_mu1, is_last_line1, nu_line1, time_explosion1)', 'stat_file.txt')"
   ]
  },
  {
   "cell_type": "code",
   "execution_count": 6,
   "id": "98753f40",
   "metadata": {
    "scrolled": true
   },
   "outputs": [
    {
     "name": "stdout",
     "output_type": "stream",
     "text": [
      "Mon May 17 10:29:49 2021    stat_file.txt\n",
      "\n",
      "         183293 function calls (173302 primitive calls) in 0.156 seconds\n",
      "\n",
      "   Ordered by: cumulative time\n",
      "   List reduced from 1802 to 10 due to restriction <10>\n",
      "\n",
      "   ncalls  tottime  percall  cumtime  percall filename:lineno(function)\n",
      "        1    0.000    0.000    0.157    0.157 {built-in method builtins.exec}\n",
      "        1    0.000    0.000    0.156    0.156 <string>:1(<module>)\n",
      "        1    0.000    0.000    0.156    0.156 dispatcher.py:340(_compile_for_args)\n",
      "        1    0.000    0.000    0.156    0.156 dispatcher.py:864(compile)\n",
      "        1    0.000    0.000    0.156    0.156 dispatcher.py:78(compile)\n",
      "        1    0.000    0.000    0.156    0.156 dispatcher.py:85(_compile_cached)\n",
      "        1    0.000    0.000    0.156    0.156 dispatcher.py:100(_compile_core)\n",
      "        1    0.000    0.000    0.156    0.156 compiler.py:580(compile_extra)\n",
      "        1    0.000    0.000    0.155    0.155 compiler.py:347(compile_extra)\n",
      "        1    0.000    0.000    0.155    0.155 compiler.py:410(_compile_bytecode)\n",
      "\n",
      "\n",
      "Mon May 17 10:29:49 2021    stat_file.txt\n",
      "\n",
      "         183293 function calls (173302 primitive calls) in 0.156 seconds\n",
      "\n",
      "   Ordered by: call count\n",
      "   List reduced from 1802 to 10 due to restriction <10>\n",
      "\n",
      "   ncalls  tottime  percall  cumtime  percall filename:lineno(function)\n",
      "    39132    0.003    0.000    0.006    0.000 {built-in method builtins.isinstance}\n",
      "6589/1245    0.018    0.000    0.019    0.000 ir.py:313(_rec_list_vars)\n",
      "     5136    0.000    0.000    0.000    0.000 {method 'extend' of 'list' objects}\n",
      "     3860    0.000    0.000    0.000    0.000 {method 'append' of 'list' objects}\n",
      "3766/1989    0.002    0.000    0.006    0.000 {method 'format' of 'str' objects}\n",
      "3196/3192    0.000    0.000    0.000    0.000 {built-in method builtins.len}\n",
      "     2995    0.000    0.000    0.000    0.000 {method 'add' of 'set' objects}\n",
      "     2424    0.000    0.000    0.000    0.000 {method 'startswith' of 'str' objects}\n",
      "2301/2278    0.000    0.000    0.001    0.000 {built-in method builtins.getattr}\n",
      "     2167    0.001    0.000    0.001    0.000 {built-in method _abc._abc_instancecheck}\n",
      "\n",
      "\n",
      "Mon May 17 10:29:49 2021    stat_file.txt\n",
      "\n",
      "         183293 function calls (173302 primitive calls) in 0.156 seconds\n",
      "\n",
      "   Ordered by: internal time\n",
      "   List reduced from 1802 to 10 due to restriction <10>\n",
      "\n",
      "   ncalls  tottime  percall  cumtime  percall filename:lineno(function)\n",
      "      714    0.038    0.000    0.047    0.000 ffi.py:149(__call__)\n",
      "6589/1245    0.018    0.000    0.019    0.000 ir.py:313(_rec_list_vars)\n",
      "      228    0.006    0.000    0.006    0.000 typeconv.py:43(check_compatible)\n",
      "      872    0.006    0.000    0.007    0.000 _utils.py:16(register)\n",
      "  413/341    0.004    0.000    0.006    0.000 contextlib.py:108(__enter__)\n",
      "      130    0.004    0.000    0.005    0.000 ansitowin32.py:73(__init__)\n",
      "      222    0.003    0.000    0.004    0.000 manager.py:33(__getitem__)\n",
      "        7    0.003    0.000    0.003    0.000 packer.py:73(__init__)\n",
      "    39132    0.003    0.000    0.006    0.000 {built-in method builtins.isinstance}\n",
      "       42    0.003    0.000    0.003    0.000 compiler_machinery.py:132(get_required_set)\n",
      "\n",
      "\n"
     ]
    },
    {
     "data": {
      "text/plain": [
       "<pstats.Stats at 0x7fc9b7df48e0>"
      ]
     },
     "execution_count": 6,
     "metadata": {},
     "output_type": "execute_result"
    }
   ],
   "source": [
    "import pstats\n",
    "from pstats import SortKey\n",
    "p = pstats.Stats('stat_file.txt')\n",
    "#p.strip_dirs().sort_stats(-1).print_stats()\n",
    "p.strip_dirs()\n",
    "\n",
    "p.sort_stats(SortKey.CUMULATIVE).print_stats(10)\n",
    "p.sort_stats(SortKey.CALLS).print_stats(10)\n",
    "p.sort_stats(SortKey.TIME).print_stats(10)"
   ]
  },
  {
   "cell_type": "code",
   "execution_count": 7,
   "id": "f59c08b9",
   "metadata": {},
   "outputs": [
    {
     "name": "stdout",
     "output_type": "stream",
     "text": [
      "profile of calculate_distance_line\n",
      "\n"
     ]
    }
   ],
   "source": [
    "print(\"profile of calculate_distance_line\\n\")\n",
    "r_packet_2 = base_r_packet\n",
    "comov_mu2 = base_comov_mu\n",
    "is_last_line2 = base_is_last_line\n",
    "nu_line2 = base_nu_line\n",
    "time_explosion2 = base_time_explosion\n",
    "#profile.run('calculate_distance_line(r_packet_2, comov_mu2, is_last_line2, nu_line2, time_explosion2)')"
   ]
  },
  {
   "cell_type": "code",
   "execution_count": 8,
   "id": "3860ab57",
   "metadata": {
    "scrolled": true
   },
   "outputs": [
    {
     "name": "stdout",
     "output_type": "stream",
     "text": [
      "cProfile of calculate_distance_line_full_relativity\n",
      "\n"
     ]
    }
   ],
   "source": [
    "print(\"cProfile of calculate_distance_line_full_relativity\\n\")\n",
    "nu_line1 = base_nu_line\n",
    "nu1 = base_nu\n",
    "time_explosion1 = base_time_explosion\n",
    "r_packet1 = base_r_packet\n",
    "cProfile.run('calculate_distance_line_full_relativity(nu_line1, nu1, time_explosion1, r_packet1)', 'stat_file.txt')"
   ]
  },
  {
   "cell_type": "code",
   "execution_count": 9,
   "id": "c0a8b259",
   "metadata": {
    "scrolled": true
   },
   "outputs": [
    {
     "name": "stdout",
     "output_type": "stream",
     "text": [
      "Mon May 17 10:29:50 2021    stat_file.txt\n",
      "\n",
      "         207516 function calls (197206 primitive calls) in 0.170 seconds\n",
      "\n",
      "   Ordered by: cumulative time\n",
      "   List reduced from 1632 to 10 due to restriction <10>\n",
      "\n",
      "   ncalls  tottime  percall  cumtime  percall filename:lineno(function)\n",
      "        1    0.000    0.000    0.171    0.171 {built-in method builtins.exec}\n",
      "        1    0.000    0.000    0.171    0.171 <string>:1(<module>)\n",
      "        1    0.000    0.000    0.171    0.171 dispatcher.py:340(_compile_for_args)\n",
      "        1    0.000    0.000    0.170    0.170 dispatcher.py:864(compile)\n",
      "        1    0.000    0.000    0.170    0.170 dispatcher.py:78(compile)\n",
      "        1    0.000    0.000    0.170    0.170 dispatcher.py:85(_compile_cached)\n",
      "        1    0.000    0.000    0.170    0.170 dispatcher.py:100(_compile_core)\n",
      "        1    0.000    0.000    0.170    0.170 compiler.py:580(compile_extra)\n",
      "        1    0.000    0.000    0.170    0.170 compiler.py:347(compile_extra)\n",
      "        1    0.000    0.000    0.169    0.169 compiler.py:410(_compile_bytecode)\n",
      "\n",
      "\n",
      "Mon May 17 10:29:50 2021    stat_file.txt\n",
      "\n",
      "         207516 function calls (197206 primitive calls) in 0.170 seconds\n",
      "\n",
      "   Ordered by: call count\n",
      "   List reduced from 1632 to 10 due to restriction <10>\n",
      "\n",
      "   ncalls  tottime  percall  cumtime  percall filename:lineno(function)\n",
      "    44683    0.010    0.000    0.012    0.000 {built-in method builtins.isinstance}\n",
      "8256/1247    0.010    0.000    0.012    0.000 ir.py:313(_rec_list_vars)\n",
      "     6566    0.000    0.000    0.000    0.000 {method 'extend' of 'list' objects}\n",
      "     4634    0.001    0.000    0.001    0.000 {built-in method _abc._abc_instancecheck}\n",
      "     4634    0.001    0.000    0.002    0.000 abc.py:96(__instancecheck__)\n",
      "4483/4481    0.000    0.000    0.000    0.000 {built-in method builtins.len}\n",
      "     3812    0.008    0.000    0.008    0.000 {method 'append' of 'list' objects}\n",
      "3744/2033    0.002    0.000    0.006    0.000 {method 'format' of 'str' objects}\n",
      "3628/3605    0.001    0.000    0.001    0.000 {built-in method builtins.getattr}\n",
      "     2147    0.000    0.000    0.000    0.000 {method 'values' of 'dict' objects}\n",
      "\n",
      "\n",
      "Mon May 17 10:29:50 2021    stat_file.txt\n",
      "\n",
      "         207516 function calls (197206 primitive calls) in 0.170 seconds\n",
      "\n",
      "   Ordered by: internal time\n",
      "   List reduced from 1632 to 10 due to restriction <10>\n",
      "\n",
      "   ncalls  tottime  percall  cumtime  percall filename:lineno(function)\n",
      "      458    0.023    0.000    0.027    0.000 ffi.py:149(__call__)\n",
      "       67    0.013    0.000    0.050    0.001 functions.py:283(get_call_type)\n",
      "    44683    0.010    0.000    0.012    0.000 {built-in method builtins.isinstance}\n",
      "8256/1247    0.010    0.000    0.012    0.000 ir.py:313(_rec_list_vars)\n",
      "     3812    0.008    0.000    0.008    0.000 {method 'append' of 'list' objects}\n",
      "      824    0.008    0.000    0.008    0.000 misc.py:47(unliteral)\n",
      "       93    0.007    0.000    0.007    0.000 ir.py:384(__setattr__)\n",
      "      126    0.006    0.000    0.006    0.000 npydecl.py:50(<listcomp>)\n",
      "      904    0.004    0.000    0.004    0.000 {built-in method numba.core.typeconv._typeconv.check_compatible}\n",
      "       94    0.002    0.000    0.003    0.000 typeof.py:39(typeof_impl)\n",
      "\n",
      "\n"
     ]
    },
    {
     "data": {
      "text/plain": [
       "<pstats.Stats at 0x7fc9e12dd2b0>"
      ]
     },
     "execution_count": 9,
     "metadata": {},
     "output_type": "execute_result"
    }
   ],
   "source": [
    "import pstats\n",
    "from pstats import SortKey\n",
    "p = pstats.Stats('stat_file.txt')\n",
    "#p.strip_dirs().sort_stats(-1).print_stats()\n",
    "p.strip_dirs()\n",
    "\n",
    "p.sort_stats(SortKey.CUMULATIVE).print_stats(10)\n",
    "p.sort_stats(SortKey.CALLS).print_stats(10)\n",
    "p.sort_stats(SortKey.TIME).print_stats(10)"
   ]
  },
  {
   "cell_type": "code",
   "execution_count": 10,
   "id": "bb8ce7bc",
   "metadata": {},
   "outputs": [
    {
     "name": "stdout",
     "output_type": "stream",
     "text": [
      "profile of calculate_distance_line_full_relativity\n",
      "\n"
     ]
    }
   ],
   "source": [
    "print(\"profile of calculate_distance_line_full_relativity\\n\")\n",
    "nu_line2 = base_nu_line\n",
    "nu2 = base_nu\n",
    "time_explosion2 = base_time_explosion\n",
    "r_packet2 = base_r_packet\n",
    "#profile.run('calculate_distance_line_full_relativity(nu_line2, nu2, time_explosion2, r_packet2)')"
   ]
  },
  {
   "cell_type": "code",
   "execution_count": 11,
   "id": "b40c3771",
   "metadata": {},
   "outputs": [
    {
     "name": "stdout",
     "output_type": "stream",
     "text": [
      "cProfile of calculate_distance_boundary\n",
      "\n"
     ]
    }
   ],
   "source": [
    "print(\"cProfile of calculate_distance_boundary\\n\")\n",
    "electron_density1 = .55\n",
    "tau_event1 = .1\n",
    "cProfile.run('calculate_distance_electron(electron_density1, tau_event1)', 'stat_file.txt')"
   ]
  },
  {
   "cell_type": "code",
   "execution_count": 12,
   "id": "4d0b8560",
   "metadata": {
    "scrolled": true
   },
   "outputs": [
    {
     "name": "stdout",
     "output_type": "stream",
     "text": [
      "Mon May 17 10:29:50 2021    stat_file.txt\n",
      "\n",
      "         52221 function calls (50223 primitive calls) in 0.059 seconds\n",
      "\n",
      "   Ordered by: cumulative time\n",
      "   List reduced from 1431 to 10 due to restriction <10>\n",
      "\n",
      "   ncalls  tottime  percall  cumtime  percall filename:lineno(function)\n",
      "        1    0.000    0.000    0.059    0.059 {built-in method builtins.exec}\n",
      "        1    0.000    0.000    0.059    0.059 <string>:1(<module>)\n",
      "        1    0.000    0.000    0.059    0.059 dispatcher.py:340(_compile_for_args)\n",
      "        1    0.000    0.000    0.059    0.059 dispatcher.py:864(compile)\n",
      "        1    0.000    0.000    0.059    0.059 dispatcher.py:78(compile)\n",
      "        1    0.000    0.000    0.059    0.059 dispatcher.py:85(_compile_cached)\n",
      "        1    0.000    0.000    0.059    0.059 dispatcher.py:100(_compile_core)\n",
      "        1    0.000    0.000    0.059    0.059 compiler.py:580(compile_extra)\n",
      "        1    0.000    0.000    0.059    0.059 compiler.py:347(compile_extra)\n",
      "        1    0.000    0.000    0.058    0.058 compiler.py:410(_compile_bytecode)\n",
      "\n",
      "\n",
      "Mon May 17 10:29:50 2021    stat_file.txt\n",
      "\n",
      "         52221 function calls (50223 primitive calls) in 0.059 seconds\n",
      "\n",
      "   Ordered by: call count\n",
      "   List reduced from 1431 to 10 due to restriction <10>\n",
      "\n",
      "   ncalls  tottime  percall  cumtime  percall filename:lineno(function)\n",
      "     7255    0.014    0.000    0.019    0.000 {built-in method builtins.isinstance}\n",
      " 1332/719    0.001    0.000    0.002    0.000 {method 'format' of 'str' objects}\n",
      "  984/183    0.001    0.000    0.006    0.000 ir.py:313(_rec_list_vars)\n",
      "      982    0.000    0.000    0.000    0.000 {method 'startswith' of 'str' objects}\n",
      "      905    0.000    0.000    0.000    0.000 {method 'append' of 'list' objects}\n",
      "      870    0.000    0.000    0.000    0.000 {built-in method time.perf_counter}\n",
      "      788    0.000    0.000    0.000    0.000 event.py:50(_guard_kind)\n",
      "      784    0.000    0.000    0.001    0.000 event.py:84(__init__)\n",
      "      784    0.000    0.000    0.000    0.000 event.py:92(kind)\n",
      "      784    0.000    0.000    0.001    0.000 event.py:193(broadcast)\n",
      "\n",
      "\n",
      "Mon May 17 10:29:50 2021    stat_file.txt\n",
      "\n",
      "         52221 function calls (50223 primitive calls) in 0.059 seconds\n",
      "\n",
      "   Ordered by: internal time\n",
      "   List reduced from 1431 to 10 due to restriction <10>\n",
      "\n",
      "   ncalls  tottime  percall  cumtime  percall filename:lineno(function)\n",
      "     7255    0.014    0.000    0.019    0.000 {built-in method builtins.isinstance}\n",
      "      368    0.011    0.000    0.014    0.000 ffi.py:149(__call__)\n",
      "       12    0.005    0.000    0.005    0.000 npydecl.py:110(<listcomp>)\n",
      "      483    0.005    0.000    0.005    0.000 abc.py:96(__instancecheck__)\n",
      "      121    0.002    0.000    0.002    0.000 common.py:27(_is_shutting_down)\n",
      " 1332/719    0.001    0.000    0.002    0.000 {method 'format' of 'str' objects}\n",
      "  984/183    0.001    0.000    0.006    0.000 ir.py:313(_rec_list_vars)\n",
      "      782    0.000    0.000    0.001    0.000 event.py:227(notify)\n",
      "      784    0.000    0.000    0.001    0.000 event.py:193(broadcast)\n",
      "      392    0.000    0.000    0.001    0.000 event.py:388(end_event)\n",
      "\n",
      "\n"
     ]
    },
    {
     "data": {
      "text/plain": [
       "<pstats.Stats at 0x7fc9b7f19790>"
      ]
     },
     "execution_count": 12,
     "metadata": {},
     "output_type": "execute_result"
    }
   ],
   "source": [
    "import pstats\n",
    "from pstats import SortKey\n",
    "p = pstats.Stats('stat_file.txt')\n",
    "#p.strip_dirs().sort_stats(-1).print_stats()\n",
    "p.strip_dirs()\n",
    "\n",
    "p.sort_stats(SortKey.CUMULATIVE).print_stats(10)\n",
    "p.sort_stats(SortKey.CALLS).print_stats(10)\n",
    "p.sort_stats(SortKey.TIME).print_stats(10)"
   ]
  },
  {
   "cell_type": "code",
   "execution_count": 13,
   "id": "f396cc41",
   "metadata": {},
   "outputs": [
    {
     "name": "stdout",
     "output_type": "stream",
     "text": [
      "profile of calculate_distance_boundary\n",
      "\n"
     ]
    }
   ],
   "source": [
    "print(\"profile of calculate_distance_boundary\\n\")\n",
    "electron_density2 = .55\n",
    "tau_event2 = .1\n",
    "#profile.run('calculate_distance_electron(electron_density2, tau_event2)')"
   ]
  }
 ],
 "metadata": {
  "kernelspec": {
   "display_name": "Python 3",
   "language": "python",
   "name": "python3"
  },
  "language_info": {
   "codemirror_mode": {
    "name": "ipython",
    "version": 3
   },
   "file_extension": ".py",
   "mimetype": "text/x-python",
   "name": "python",
   "nbconvert_exporter": "python",
   "pygments_lexer": "ipython3",
   "version": "3.7.10"
  }
 },
 "nbformat": 4,
 "nbformat_minor": 5
}
