{
 "cells": [
  {
   "cell_type": "code",
   "execution_count": 1,
   "id": "d22d72b5",
   "metadata": {},
   "outputs": [],
   "source": [
    "import cProfile\n",
    "import os\n",
    "os.environ['NUMBA_DISABLE_JIT'] = '1'"
   ]
  },
  {
   "cell_type": "code",
   "execution_count": 2,
   "id": "7f8d5ad0",
   "metadata": {},
   "outputs": [],
   "source": [
    "import pytest\n",
    "import numpy as np\n",
    "import numpy.testing as npt\n",
    "from astropy import units as u\n",
    "from astropy.tests.helper import assert_quantity_allclose"
   ]
  },
  {
   "cell_type": "code",
   "execution_count": 3,
   "id": "d40b4ca8",
   "metadata": {},
   "outputs": [],
   "source": [
    "#This is mostly what the montecarlo_numba/tests/conftest.py has except the simulation info\n",
    "from copy import deepcopy\n",
    "from numba import njit\n",
    "\n",
    "from tardis.montecarlo.montecarlo_numba.single_packet_loop import single_packet_loop\n",
    "\n",
    "from tardis.montecarlo.montecarlo_numba.tests.conftest import *\n",
    "from tardis.montecarlo.montecarlo_numba.r_packet import RPacket\n",
    "from tardis.montecarlo.montecarlo_numba.numba_interface import (PacketCollection, NumbaModel)"
   ]
  },
  {
   "cell_type": "code",
   "execution_count": 4,
   "id": "4bf3cb9c",
   "metadata": {},
   "outputs": [
    {
     "name": "stdout",
     "output_type": "stream",
     "text": [
      "[\u001b[1mtardis.io.atom_data.atom_web_download\u001b[0m][\u001b[1;37mINFO\u001b[0m   ]  Downloading atomic data from https://media.githubusercontent.com/media/tardis-sn/tardis-refdata/master/atom_data/kurucz_cd23_chianti_H_He.h5 to /home/kevin/Downloads/tardis-data/kurucz_cd23_chianti_H_He.h5 (\u001b[1matom_web_download.py\u001b[0m:46)\n"
     ]
    }
   ],
   "source": [
    "from tardis.io.atom_data.util import download_atom_data\n",
    "from tardis.io.config_reader import Configuration\n",
    "from tardis.simulation import Simulation\n",
    "\n",
    "config_verysimple = Configuration.from_yaml('tardis_example.yml')\n",
    "config_verysimple['montecarlo']['no_of_packets'] = 100\n",
    "config_verysimple['montecarlo']['no_of_virtual_packets'] = 0\n",
    "atom_data = download_atom_data('kurucz_cd23_chianti_H_He')"
   ]
  },
  {
   "cell_type": "code",
   "execution_count": 5,
   "id": "7bfec9e7",
   "metadata": {
    "scrolled": true
   },
   "outputs": [],
   "source": [
    "#nb_simulation_verysimple(config_verysimple, atom_data)"
   ]
  },
  {
   "cell_type": "code",
   "execution_count": 6,
   "id": "b7a896fb",
   "metadata": {},
   "outputs": [],
   "source": [
    "def test_verysimple_single_packet_loop(\n",
    "    verysimple_numba_model,\n",
    "    verysimple_numba_plasma,\n",
    "    verysimple_estimators,\n",
    "    verysimple_vpacket_collection,\n",
    "    verysimple_packet_collection,\n",
    "):\n",
    "    packet_collection = verysimple_packet_collection\n",
    "    vpacket_collection = verysimple_vpacket_collection\n",
    "    numba_model = verysimple_numba_model\n",
    "    numba_plasma = verysimple_numba_plasma\n",
    "    numba_estimators = verysimple_estimators\n",
    "\n",
    "    i = 0\n",
    "    r_packet = RPacket(\n",
    "        verysimple_numba_model.r_inner[0],\n",
    "        packet_collection.packets_input_mu[i],\n",
    "        packet_collection.packets_input_nu[i],\n",
    "        packet_collection.packets_input_energy[i],\n",
    "        i,\n",
    "    )\n",
    "    single_packet_loop(\n",
    "        r_packet,\n",
    "        numba_model,\n",
    "        numba_plasma,\n",
    "        numba_estimators,\n",
    "        vpacket_collection,\n",
    "    )"
   ]
  },
  {
   "cell_type": "code",
   "execution_count": 8,
   "id": "a41140ea",
   "metadata": {},
   "outputs": [
    {
     "ename": "AttributeError",
     "evalue": "'function' object has no attribute 'r_inner'",
     "output_type": "error",
     "traceback": [
      "\u001b[0;31m---------------------------------------------------------------------------\u001b[0m",
      "\u001b[0;31mAttributeError\u001b[0m                            Traceback (most recent call last)",
      "\u001b[0;32m<ipython-input-8-56873fe27a7a>\u001b[0m in \u001b[0;36m<module>\u001b[0;34m\u001b[0m\n\u001b[1;32m      3\u001b[0m                                    \u001b[0mverysimple_estimators\u001b[0m\u001b[0;34m,\u001b[0m\u001b[0;34m\u001b[0m\u001b[0;34m\u001b[0m\u001b[0m\n\u001b[1;32m      4\u001b[0m                                    \u001b[0mverysimple_vpacket_collection\u001b[0m\u001b[0;34m,\u001b[0m\u001b[0;34m\u001b[0m\u001b[0;34m\u001b[0m\u001b[0m\n\u001b[0;32m----> 5\u001b[0;31m                                    verysimple_packet_collection)\n\u001b[0m",
      "\u001b[0;32m<ipython-input-6-93a9a6e0408d>\u001b[0m in \u001b[0;36mtest_verysimple_single_packet_loop\u001b[0;34m(verysimple_numba_model, verysimple_numba_plasma, verysimple_estimators, verysimple_vpacket_collection, verysimple_packet_collection)\u001b[0m\n\u001b[1;32m     14\u001b[0m     \u001b[0mi\u001b[0m \u001b[0;34m=\u001b[0m \u001b[0;36m0\u001b[0m\u001b[0;34m\u001b[0m\u001b[0;34m\u001b[0m\u001b[0m\n\u001b[1;32m     15\u001b[0m     r_packet = RPacket(\n\u001b[0;32m---> 16\u001b[0;31m         \u001b[0mverysimple_numba_model\u001b[0m\u001b[0;34m.\u001b[0m\u001b[0mr_inner\u001b[0m\u001b[0;34m[\u001b[0m\u001b[0;36m0\u001b[0m\u001b[0;34m]\u001b[0m\u001b[0;34m,\u001b[0m\u001b[0;34m\u001b[0m\u001b[0;34m\u001b[0m\u001b[0m\n\u001b[0m\u001b[1;32m     17\u001b[0m         \u001b[0mpacket_collection\u001b[0m\u001b[0;34m.\u001b[0m\u001b[0mpackets_input_mu\u001b[0m\u001b[0;34m[\u001b[0m\u001b[0mi\u001b[0m\u001b[0;34m]\u001b[0m\u001b[0;34m,\u001b[0m\u001b[0;34m\u001b[0m\u001b[0;34m\u001b[0m\u001b[0m\n\u001b[1;32m     18\u001b[0m         \u001b[0mpacket_collection\u001b[0m\u001b[0;34m.\u001b[0m\u001b[0mpackets_input_nu\u001b[0m\u001b[0;34m[\u001b[0m\u001b[0mi\u001b[0m\u001b[0;34m]\u001b[0m\u001b[0;34m,\u001b[0m\u001b[0;34m\u001b[0m\u001b[0;34m\u001b[0m\u001b[0m\n",
      "\u001b[0;31mAttributeError\u001b[0m: 'function' object has no attribute 'r_inner'"
     ]
    }
   ],
   "source": [
    "test_verysimple_single_packet_loop(verysimple_numba_model, \n",
    "                                   verysimple_numba_plasma, \n",
    "                                   verysimple_estimators, \n",
    "                                   verysimple_vpacket_collection, \n",
    "                                   verysimple_packet_collection)"
   ]
  },
  {
   "cell_type": "code",
   "execution_count": null,
   "id": "1def73ef",
   "metadata": {},
   "outputs": [],
   "source": []
  }
 ],
 "metadata": {
  "kernelspec": {
   "display_name": "Python 3",
   "language": "python",
   "name": "python3"
  },
  "language_info": {
   "codemirror_mode": {
    "name": "ipython",
    "version": 3
   },
   "file_extension": ".py",
   "mimetype": "text/x-python",
   "name": "python",
   "nbconvert_exporter": "python",
   "pygments_lexer": "ipython3",
   "version": "3.7.10"
  }
 },
 "nbformat": 4,
 "nbformat_minor": 5
}
